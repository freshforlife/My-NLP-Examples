{
  "nbformat": 4,
  "nbformat_minor": 0,
  "metadata": {
    "colab": {
      "name": "2.DistilBert - Question Answering Model.ipynb",
      "provenance": [],
      "collapsed_sections": [],
      "authorship_tag": "ABX9TyMuyAb3rjJG1mFBfYnAm1m9",
      "include_colab_link": true
    },
    "kernelspec": {
      "name": "python3",
      "display_name": "Python 3"
    },
    "accelerator": "GPU",
    "widgets": {
      "application/vnd.jupyter.widget-state+json": {
        "98c9c4fd53564cc5a9f0f9be2eafbc9f": {
          "model_module": "@jupyter-widgets/controls",
          "model_name": "HBoxModel",
          "state": {
            "_view_name": "HBoxView",
            "_dom_classes": [],
            "_model_name": "HBoxModel",
            "_view_module": "@jupyter-widgets/controls",
            "_model_module_version": "1.5.0",
            "_view_count": null,
            "_view_module_version": "1.5.0",
            "box_style": "",
            "layout": "IPY_MODEL_17b19b5dfcb44dca8cf06b61422b19f2",
            "_model_module": "@jupyter-widgets/controls",
            "children": [
              "IPY_MODEL_f32fcad014834ee6a008065de7a55fc5",
              "IPY_MODEL_3df6b5b955cb44a493259f1b795050ff"
            ]
          }
        },
        "17b19b5dfcb44dca8cf06b61422b19f2": {
          "model_module": "@jupyter-widgets/base",
          "model_name": "LayoutModel",
          "state": {
            "_view_name": "LayoutView",
            "grid_template_rows": null,
            "right": null,
            "justify_content": null,
            "_view_module": "@jupyter-widgets/base",
            "overflow": null,
            "_model_module_version": "1.2.0",
            "_view_count": null,
            "flex_flow": null,
            "width": null,
            "min_width": null,
            "border": null,
            "align_items": null,
            "bottom": null,
            "_model_module": "@jupyter-widgets/base",
            "top": null,
            "grid_column": null,
            "overflow_y": null,
            "overflow_x": null,
            "grid_auto_flow": null,
            "grid_area": null,
            "grid_template_columns": null,
            "flex": null,
            "_model_name": "LayoutModel",
            "justify_items": null,
            "grid_row": null,
            "max_height": null,
            "align_content": null,
            "visibility": null,
            "align_self": null,
            "height": null,
            "min_height": null,
            "padding": null,
            "grid_auto_rows": null,
            "grid_gap": null,
            "max_width": null,
            "order": null,
            "_view_module_version": "1.2.0",
            "grid_template_areas": null,
            "object_position": null,
            "object_fit": null,
            "grid_auto_columns": null,
            "margin": null,
            "display": null,
            "left": null
          }
        },
        "f32fcad014834ee6a008065de7a55fc5": {
          "model_module": "@jupyter-widgets/controls",
          "model_name": "FloatProgressModel",
          "state": {
            "_view_name": "ProgressView",
            "style": "IPY_MODEL_0d80b3fe57c540c38d32d975ac9cd414",
            "_dom_classes": [],
            "description": "Downloading: 100%",
            "_model_name": "FloatProgressModel",
            "bar_style": "success",
            "max": 231508,
            "_view_module": "@jupyter-widgets/controls",
            "_model_module_version": "1.5.0",
            "value": 231508,
            "_view_count": null,
            "_view_module_version": "1.5.0",
            "orientation": "horizontal",
            "min": 0,
            "description_tooltip": null,
            "_model_module": "@jupyter-widgets/controls",
            "layout": "IPY_MODEL_c50cb9e1fb3c441cabf5657aa98ab5e5"
          }
        },
        "3df6b5b955cb44a493259f1b795050ff": {
          "model_module": "@jupyter-widgets/controls",
          "model_name": "HTMLModel",
          "state": {
            "_view_name": "HTMLView",
            "style": "IPY_MODEL_70ff843dd76943eea40bbf87f4d1961e",
            "_dom_classes": [],
            "description": "",
            "_model_name": "HTMLModel",
            "placeholder": "​",
            "_view_module": "@jupyter-widgets/controls",
            "_model_module_version": "1.5.0",
            "value": " 232k/232k [00:00&lt;00:00, 2.19MB/s]",
            "_view_count": null,
            "_view_module_version": "1.5.0",
            "description_tooltip": null,
            "_model_module": "@jupyter-widgets/controls",
            "layout": "IPY_MODEL_72f4aeecde384c539b4b4d2061ba577c"
          }
        },
        "0d80b3fe57c540c38d32d975ac9cd414": {
          "model_module": "@jupyter-widgets/controls",
          "model_name": "ProgressStyleModel",
          "state": {
            "_view_name": "StyleView",
            "_model_name": "ProgressStyleModel",
            "description_width": "initial",
            "_view_module": "@jupyter-widgets/base",
            "_model_module_version": "1.5.0",
            "_view_count": null,
            "_view_module_version": "1.2.0",
            "bar_color": null,
            "_model_module": "@jupyter-widgets/controls"
          }
        },
        "c50cb9e1fb3c441cabf5657aa98ab5e5": {
          "model_module": "@jupyter-widgets/base",
          "model_name": "LayoutModel",
          "state": {
            "_view_name": "LayoutView",
            "grid_template_rows": null,
            "right": null,
            "justify_content": null,
            "_view_module": "@jupyter-widgets/base",
            "overflow": null,
            "_model_module_version": "1.2.0",
            "_view_count": null,
            "flex_flow": null,
            "width": null,
            "min_width": null,
            "border": null,
            "align_items": null,
            "bottom": null,
            "_model_module": "@jupyter-widgets/base",
            "top": null,
            "grid_column": null,
            "overflow_y": null,
            "overflow_x": null,
            "grid_auto_flow": null,
            "grid_area": null,
            "grid_template_columns": null,
            "flex": null,
            "_model_name": "LayoutModel",
            "justify_items": null,
            "grid_row": null,
            "max_height": null,
            "align_content": null,
            "visibility": null,
            "align_self": null,
            "height": null,
            "min_height": null,
            "padding": null,
            "grid_auto_rows": null,
            "grid_gap": null,
            "max_width": null,
            "order": null,
            "_view_module_version": "1.2.0",
            "grid_template_areas": null,
            "object_position": null,
            "object_fit": null,
            "grid_auto_columns": null,
            "margin": null,
            "display": null,
            "left": null
          }
        },
        "70ff843dd76943eea40bbf87f4d1961e": {
          "model_module": "@jupyter-widgets/controls",
          "model_name": "DescriptionStyleModel",
          "state": {
            "_view_name": "StyleView",
            "_model_name": "DescriptionStyleModel",
            "description_width": "",
            "_view_module": "@jupyter-widgets/base",
            "_model_module_version": "1.5.0",
            "_view_count": null,
            "_view_module_version": "1.2.0",
            "_model_module": "@jupyter-widgets/controls"
          }
        },
        "72f4aeecde384c539b4b4d2061ba577c": {
          "model_module": "@jupyter-widgets/base",
          "model_name": "LayoutModel",
          "state": {
            "_view_name": "LayoutView",
            "grid_template_rows": null,
            "right": null,
            "justify_content": null,
            "_view_module": "@jupyter-widgets/base",
            "overflow": null,
            "_model_module_version": "1.2.0",
            "_view_count": null,
            "flex_flow": null,
            "width": null,
            "min_width": null,
            "border": null,
            "align_items": null,
            "bottom": null,
            "_model_module": "@jupyter-widgets/base",
            "top": null,
            "grid_column": null,
            "overflow_y": null,
            "overflow_x": null,
            "grid_auto_flow": null,
            "grid_area": null,
            "grid_template_columns": null,
            "flex": null,
            "_model_name": "LayoutModel",
            "justify_items": null,
            "grid_row": null,
            "max_height": null,
            "align_content": null,
            "visibility": null,
            "align_self": null,
            "height": null,
            "min_height": null,
            "padding": null,
            "grid_auto_rows": null,
            "grid_gap": null,
            "max_width": null,
            "order": null,
            "_view_module_version": "1.2.0",
            "grid_template_areas": null,
            "object_position": null,
            "object_fit": null,
            "grid_auto_columns": null,
            "margin": null,
            "display": null,
            "left": null
          }
        },
        "cdb005a177604f0fa19f4e9a985c5f1d": {
          "model_module": "@jupyter-widgets/controls",
          "model_name": "HBoxModel",
          "state": {
            "_view_name": "HBoxView",
            "_dom_classes": [],
            "_model_name": "HBoxModel",
            "_view_module": "@jupyter-widgets/controls",
            "_model_module_version": "1.5.0",
            "_view_count": null,
            "_view_module_version": "1.5.0",
            "box_style": "",
            "layout": "IPY_MODEL_edc38296945c4f119c1a01168f52882a",
            "_model_module": "@jupyter-widgets/controls",
            "children": [
              "IPY_MODEL_f89018d058464ffb8eec7467478a5143",
              "IPY_MODEL_5fab718abaa9448d9499cb48d770890d"
            ]
          }
        },
        "edc38296945c4f119c1a01168f52882a": {
          "model_module": "@jupyter-widgets/base",
          "model_name": "LayoutModel",
          "state": {
            "_view_name": "LayoutView",
            "grid_template_rows": null,
            "right": null,
            "justify_content": null,
            "_view_module": "@jupyter-widgets/base",
            "overflow": null,
            "_model_module_version": "1.2.0",
            "_view_count": null,
            "flex_flow": null,
            "width": null,
            "min_width": null,
            "border": null,
            "align_items": null,
            "bottom": null,
            "_model_module": "@jupyter-widgets/base",
            "top": null,
            "grid_column": null,
            "overflow_y": null,
            "overflow_x": null,
            "grid_auto_flow": null,
            "grid_area": null,
            "grid_template_columns": null,
            "flex": null,
            "_model_name": "LayoutModel",
            "justify_items": null,
            "grid_row": null,
            "max_height": null,
            "align_content": null,
            "visibility": null,
            "align_self": null,
            "height": null,
            "min_height": null,
            "padding": null,
            "grid_auto_rows": null,
            "grid_gap": null,
            "max_width": null,
            "order": null,
            "_view_module_version": "1.2.0",
            "grid_template_areas": null,
            "object_position": null,
            "object_fit": null,
            "grid_auto_columns": null,
            "margin": null,
            "display": null,
            "left": null
          }
        },
        "f89018d058464ffb8eec7467478a5143": {
          "model_module": "@jupyter-widgets/controls",
          "model_name": "FloatProgressModel",
          "state": {
            "_view_name": "ProgressView",
            "style": "IPY_MODEL_42dbce389137498e8a8f1f392c6c4498",
            "_dom_classes": [],
            "description": "Downloading: 100%",
            "_model_name": "FloatProgressModel",
            "bar_style": "success",
            "max": 451,
            "_view_module": "@jupyter-widgets/controls",
            "_model_module_version": "1.5.0",
            "value": 451,
            "_view_count": null,
            "_view_module_version": "1.5.0",
            "orientation": "horizontal",
            "min": 0,
            "description_tooltip": null,
            "_model_module": "@jupyter-widgets/controls",
            "layout": "IPY_MODEL_95a2f8d1c24445c3bdbb7d91d7830a98"
          }
        },
        "5fab718abaa9448d9499cb48d770890d": {
          "model_module": "@jupyter-widgets/controls",
          "model_name": "HTMLModel",
          "state": {
            "_view_name": "HTMLView",
            "style": "IPY_MODEL_fa13042a32994136a1ce606861663a9e",
            "_dom_classes": [],
            "description": "",
            "_model_name": "HTMLModel",
            "placeholder": "​",
            "_view_module": "@jupyter-widgets/controls",
            "_model_module_version": "1.5.0",
            "value": " 451/451 [00:12&lt;00:00, 35.9B/s]",
            "_view_count": null,
            "_view_module_version": "1.5.0",
            "description_tooltip": null,
            "_model_module": "@jupyter-widgets/controls",
            "layout": "IPY_MODEL_92462f89d92443dcb09c3fd7fddb8de9"
          }
        },
        "42dbce389137498e8a8f1f392c6c4498": {
          "model_module": "@jupyter-widgets/controls",
          "model_name": "ProgressStyleModel",
          "state": {
            "_view_name": "StyleView",
            "_model_name": "ProgressStyleModel",
            "description_width": "initial",
            "_view_module": "@jupyter-widgets/base",
            "_model_module_version": "1.5.0",
            "_view_count": null,
            "_view_module_version": "1.2.0",
            "bar_color": null,
            "_model_module": "@jupyter-widgets/controls"
          }
        },
        "95a2f8d1c24445c3bdbb7d91d7830a98": {
          "model_module": "@jupyter-widgets/base",
          "model_name": "LayoutModel",
          "state": {
            "_view_name": "LayoutView",
            "grid_template_rows": null,
            "right": null,
            "justify_content": null,
            "_view_module": "@jupyter-widgets/base",
            "overflow": null,
            "_model_module_version": "1.2.0",
            "_view_count": null,
            "flex_flow": null,
            "width": null,
            "min_width": null,
            "border": null,
            "align_items": null,
            "bottom": null,
            "_model_module": "@jupyter-widgets/base",
            "top": null,
            "grid_column": null,
            "overflow_y": null,
            "overflow_x": null,
            "grid_auto_flow": null,
            "grid_area": null,
            "grid_template_columns": null,
            "flex": null,
            "_model_name": "LayoutModel",
            "justify_items": null,
            "grid_row": null,
            "max_height": null,
            "align_content": null,
            "visibility": null,
            "align_self": null,
            "height": null,
            "min_height": null,
            "padding": null,
            "grid_auto_rows": null,
            "grid_gap": null,
            "max_width": null,
            "order": null,
            "_view_module_version": "1.2.0",
            "grid_template_areas": null,
            "object_position": null,
            "object_fit": null,
            "grid_auto_columns": null,
            "margin": null,
            "display": null,
            "left": null
          }
        },
        "fa13042a32994136a1ce606861663a9e": {
          "model_module": "@jupyter-widgets/controls",
          "model_name": "DescriptionStyleModel",
          "state": {
            "_view_name": "StyleView",
            "_model_name": "DescriptionStyleModel",
            "description_width": "",
            "_view_module": "@jupyter-widgets/base",
            "_model_module_version": "1.5.0",
            "_view_count": null,
            "_view_module_version": "1.2.0",
            "_model_module": "@jupyter-widgets/controls"
          }
        },
        "92462f89d92443dcb09c3fd7fddb8de9": {
          "model_module": "@jupyter-widgets/base",
          "model_name": "LayoutModel",
          "state": {
            "_view_name": "LayoutView",
            "grid_template_rows": null,
            "right": null,
            "justify_content": null,
            "_view_module": "@jupyter-widgets/base",
            "overflow": null,
            "_model_module_version": "1.2.0",
            "_view_count": null,
            "flex_flow": null,
            "width": null,
            "min_width": null,
            "border": null,
            "align_items": null,
            "bottom": null,
            "_model_module": "@jupyter-widgets/base",
            "top": null,
            "grid_column": null,
            "overflow_y": null,
            "overflow_x": null,
            "grid_auto_flow": null,
            "grid_area": null,
            "grid_template_columns": null,
            "flex": null,
            "_model_name": "LayoutModel",
            "justify_items": null,
            "grid_row": null,
            "max_height": null,
            "align_content": null,
            "visibility": null,
            "align_self": null,
            "height": null,
            "min_height": null,
            "padding": null,
            "grid_auto_rows": null,
            "grid_gap": null,
            "max_width": null,
            "order": null,
            "_view_module_version": "1.2.0",
            "grid_template_areas": null,
            "object_position": null,
            "object_fit": null,
            "grid_auto_columns": null,
            "margin": null,
            "display": null,
            "left": null
          }
        },
        "8f418ff6800740a39db78e5dcac444ad": {
          "model_module": "@jupyter-widgets/controls",
          "model_name": "HBoxModel",
          "state": {
            "_view_name": "HBoxView",
            "_dom_classes": [],
            "_model_name": "HBoxModel",
            "_view_module": "@jupyter-widgets/controls",
            "_model_module_version": "1.5.0",
            "_view_count": null,
            "_view_module_version": "1.5.0",
            "box_style": "",
            "layout": "IPY_MODEL_1f07a5e4503346f9ae9f520cb6e8732f",
            "_model_module": "@jupyter-widgets/controls",
            "children": [
              "IPY_MODEL_cc5b8d2cff8848b28c15ad4d7c9da549",
              "IPY_MODEL_bde45f6598db446c959332d13923675e"
            ]
          }
        },
        "1f07a5e4503346f9ae9f520cb6e8732f": {
          "model_module": "@jupyter-widgets/base",
          "model_name": "LayoutModel",
          "state": {
            "_view_name": "LayoutView",
            "grid_template_rows": null,
            "right": null,
            "justify_content": null,
            "_view_module": "@jupyter-widgets/base",
            "overflow": null,
            "_model_module_version": "1.2.0",
            "_view_count": null,
            "flex_flow": null,
            "width": null,
            "min_width": null,
            "border": null,
            "align_items": null,
            "bottom": null,
            "_model_module": "@jupyter-widgets/base",
            "top": null,
            "grid_column": null,
            "overflow_y": null,
            "overflow_x": null,
            "grid_auto_flow": null,
            "grid_area": null,
            "grid_template_columns": null,
            "flex": null,
            "_model_name": "LayoutModel",
            "justify_items": null,
            "grid_row": null,
            "max_height": null,
            "align_content": null,
            "visibility": null,
            "align_self": null,
            "height": null,
            "min_height": null,
            "padding": null,
            "grid_auto_rows": null,
            "grid_gap": null,
            "max_width": null,
            "order": null,
            "_view_module_version": "1.2.0",
            "grid_template_areas": null,
            "object_position": null,
            "object_fit": null,
            "grid_auto_columns": null,
            "margin": null,
            "display": null,
            "left": null
          }
        },
        "cc5b8d2cff8848b28c15ad4d7c9da549": {
          "model_module": "@jupyter-widgets/controls",
          "model_name": "FloatProgressModel",
          "state": {
            "_view_name": "ProgressView",
            "style": "IPY_MODEL_4a8abe080a4748f2bd2af8688c216336",
            "_dom_classes": [],
            "description": "Downloading: 100%",
            "_model_name": "FloatProgressModel",
            "bar_style": "success",
            "max": 265481570,
            "_view_module": "@jupyter-widgets/controls",
            "_model_module_version": "1.5.0",
            "value": 265481570,
            "_view_count": null,
            "_view_module_version": "1.5.0",
            "orientation": "horizontal",
            "min": 0,
            "description_tooltip": null,
            "_model_module": "@jupyter-widgets/controls",
            "layout": "IPY_MODEL_b38b5613b143433d979595559fe8d9d7"
          }
        },
        "bde45f6598db446c959332d13923675e": {
          "model_module": "@jupyter-widgets/controls",
          "model_name": "HTMLModel",
          "state": {
            "_view_name": "HTMLView",
            "style": "IPY_MODEL_70c5399768314d819e8c396fa26a14a5",
            "_dom_classes": [],
            "description": "",
            "_model_name": "HTMLModel",
            "placeholder": "​",
            "_view_module": "@jupyter-widgets/controls",
            "_model_module_version": "1.5.0",
            "value": " 265M/265M [00:12&lt;00:00, 21.8MB/s]",
            "_view_count": null,
            "_view_module_version": "1.5.0",
            "description_tooltip": null,
            "_model_module": "@jupyter-widgets/controls",
            "layout": "IPY_MODEL_ed63d3bb2f754af3bd06e7aea4928d4e"
          }
        },
        "4a8abe080a4748f2bd2af8688c216336": {
          "model_module": "@jupyter-widgets/controls",
          "model_name": "ProgressStyleModel",
          "state": {
            "_view_name": "StyleView",
            "_model_name": "ProgressStyleModel",
            "description_width": "initial",
            "_view_module": "@jupyter-widgets/base",
            "_model_module_version": "1.5.0",
            "_view_count": null,
            "_view_module_version": "1.2.0",
            "bar_color": null,
            "_model_module": "@jupyter-widgets/controls"
          }
        },
        "b38b5613b143433d979595559fe8d9d7": {
          "model_module": "@jupyter-widgets/base",
          "model_name": "LayoutModel",
          "state": {
            "_view_name": "LayoutView",
            "grid_template_rows": null,
            "right": null,
            "justify_content": null,
            "_view_module": "@jupyter-widgets/base",
            "overflow": null,
            "_model_module_version": "1.2.0",
            "_view_count": null,
            "flex_flow": null,
            "width": null,
            "min_width": null,
            "border": null,
            "align_items": null,
            "bottom": null,
            "_model_module": "@jupyter-widgets/base",
            "top": null,
            "grid_column": null,
            "overflow_y": null,
            "overflow_x": null,
            "grid_auto_flow": null,
            "grid_area": null,
            "grid_template_columns": null,
            "flex": null,
            "_model_name": "LayoutModel",
            "justify_items": null,
            "grid_row": null,
            "max_height": null,
            "align_content": null,
            "visibility": null,
            "align_self": null,
            "height": null,
            "min_height": null,
            "padding": null,
            "grid_auto_rows": null,
            "grid_gap": null,
            "max_width": null,
            "order": null,
            "_view_module_version": "1.2.0",
            "grid_template_areas": null,
            "object_position": null,
            "object_fit": null,
            "grid_auto_columns": null,
            "margin": null,
            "display": null,
            "left": null
          }
        },
        "70c5399768314d819e8c396fa26a14a5": {
          "model_module": "@jupyter-widgets/controls",
          "model_name": "DescriptionStyleModel",
          "state": {
            "_view_name": "StyleView",
            "_model_name": "DescriptionStyleModel",
            "description_width": "",
            "_view_module": "@jupyter-widgets/base",
            "_model_module_version": "1.5.0",
            "_view_count": null,
            "_view_module_version": "1.2.0",
            "_model_module": "@jupyter-widgets/controls"
          }
        },
        "ed63d3bb2f754af3bd06e7aea4928d4e": {
          "model_module": "@jupyter-widgets/base",
          "model_name": "LayoutModel",
          "state": {
            "_view_name": "LayoutView",
            "grid_template_rows": null,
            "right": null,
            "justify_content": null,
            "_view_module": "@jupyter-widgets/base",
            "overflow": null,
            "_model_module_version": "1.2.0",
            "_view_count": null,
            "flex_flow": null,
            "width": null,
            "min_width": null,
            "border": null,
            "align_items": null,
            "bottom": null,
            "_model_module": "@jupyter-widgets/base",
            "top": null,
            "grid_column": null,
            "overflow_y": null,
            "overflow_x": null,
            "grid_auto_flow": null,
            "grid_area": null,
            "grid_template_columns": null,
            "flex": null,
            "_model_name": "LayoutModel",
            "justify_items": null,
            "grid_row": null,
            "max_height": null,
            "align_content": null,
            "visibility": null,
            "align_self": null,
            "height": null,
            "min_height": null,
            "padding": null,
            "grid_auto_rows": null,
            "grid_gap": null,
            "max_width": null,
            "order": null,
            "_view_module_version": "1.2.0",
            "grid_template_areas": null,
            "object_position": null,
            "object_fit": null,
            "grid_auto_columns": null,
            "margin": null,
            "display": null,
            "left": null
          }
        }
      }
    }
  },
  "cells": [
    {
      "cell_type": "markdown",
      "metadata": {
        "id": "view-in-github",
        "colab_type": "text"
      },
      "source": [
        "<a href=\"https://colab.research.google.com/github/biranchi2018/My-NLP-Examples/blob/master/2.DistilBert_Question_Answering_Model.ipynb\" target=\"_parent\"><img src=\"https://colab.research.google.com/assets/colab-badge.svg\" alt=\"Open In Colab\"/></a>"
      ]
    },
    {
      "cell_type": "markdown",
      "metadata": {
        "id": "ZUKD3yN8n3lE",
        "colab_type": "text"
      },
      "source": [
        "DistilBert Question Answering Model :\n",
        "===================================\n",
        "\n",
        "https://towardsdatascience.com/simple-and-fast-question-answering-system-using-huggingface-distilbert-single-batch-inference-bcf5a5749571"
      ]
    },
    {
      "cell_type": "code",
      "metadata": {
        "id": "m6qqj4ikoD6m",
        "colab_type": "code",
        "colab": {
          "base_uri": "https://localhost:8080/",
          "height": 605
        },
        "outputId": "9340e1ac-776d-4ac3-a0f1-aa71238156e6"
      },
      "source": [
        "!pip install transformers"
      ],
      "execution_count": 2,
      "outputs": [
        {
          "output_type": "stream",
          "text": [
            "Collecting transformers\n",
            "\u001b[?25l  Downloading https://files.pythonhosted.org/packages/12/b5/ac41e3e95205ebf53439e4dd087c58e9fd371fd8e3724f2b9b4cdb8282e5/transformers-2.10.0-py3-none-any.whl (660kB)\n",
            "\r\u001b[K     |▌                               | 10kB 27.7MB/s eta 0:00:01\r\u001b[K     |█                               | 20kB 1.7MB/s eta 0:00:01\r\u001b[K     |█▌                              | 30kB 2.5MB/s eta 0:00:01\r\u001b[K     |██                              | 40kB 3.3MB/s eta 0:00:01\r\u001b[K     |██▌                             | 51kB 2.1MB/s eta 0:00:01\r\u001b[K     |███                             | 61kB 2.5MB/s eta 0:00:01\r\u001b[K     |███▌                            | 71kB 2.9MB/s eta 0:00:01\r\u001b[K     |████                            | 81kB 3.2MB/s eta 0:00:01\r\u001b[K     |████▌                           | 92kB 2.5MB/s eta 0:00:01\r\u001b[K     |█████                           | 102kB 2.7MB/s eta 0:00:01\r\u001b[K     |█████▌                          | 112kB 2.7MB/s eta 0:00:01\r\u001b[K     |██████                          | 122kB 2.7MB/s eta 0:00:01\r\u001b[K     |██████▌                         | 133kB 2.7MB/s eta 0:00:01\r\u001b[K     |███████                         | 143kB 2.7MB/s eta 0:00:01\r\u001b[K     |███████▌                        | 153kB 2.7MB/s eta 0:00:01\r\u001b[K     |████████                        | 163kB 2.7MB/s eta 0:00:01\r\u001b[K     |████████▍                       | 174kB 2.7MB/s eta 0:00:01\r\u001b[K     |█████████                       | 184kB 2.7MB/s eta 0:00:01\r\u001b[K     |█████████▍                      | 194kB 2.7MB/s eta 0:00:01\r\u001b[K     |██████████                      | 204kB 2.7MB/s eta 0:00:01\r\u001b[K     |██████████▍                     | 215kB 2.7MB/s eta 0:00:01\r\u001b[K     |███████████                     | 225kB 2.7MB/s eta 0:00:01\r\u001b[K     |███████████▍                    | 235kB 2.7MB/s eta 0:00:01\r\u001b[K     |████████████                    | 245kB 2.7MB/s eta 0:00:01\r\u001b[K     |████████████▍                   | 256kB 2.7MB/s eta 0:00:01\r\u001b[K     |█████████████                   | 266kB 2.7MB/s eta 0:00:01\r\u001b[K     |█████████████▍                  | 276kB 2.7MB/s eta 0:00:01\r\u001b[K     |██████████████                  | 286kB 2.7MB/s eta 0:00:01\r\u001b[K     |██████████████▍                 | 296kB 2.7MB/s eta 0:00:01\r\u001b[K     |███████████████                 | 307kB 2.7MB/s eta 0:00:01\r\u001b[K     |███████████████▍                | 317kB 2.7MB/s eta 0:00:01\r\u001b[K     |███████████████▉                | 327kB 2.7MB/s eta 0:00:01\r\u001b[K     |████████████████▍               | 337kB 2.7MB/s eta 0:00:01\r\u001b[K     |████████████████▉               | 348kB 2.7MB/s eta 0:00:01\r\u001b[K     |█████████████████▍              | 358kB 2.7MB/s eta 0:00:01\r\u001b[K     |█████████████████▉              | 368kB 2.7MB/s eta 0:00:01\r\u001b[K     |██████████████████▍             | 378kB 2.7MB/s eta 0:00:01\r\u001b[K     |██████████████████▉             | 389kB 2.7MB/s eta 0:00:01\r\u001b[K     |███████████████████▍            | 399kB 2.7MB/s eta 0:00:01\r\u001b[K     |███████████████████▉            | 409kB 2.7MB/s eta 0:00:01\r\u001b[K     |████████████████████▍           | 419kB 2.7MB/s eta 0:00:01\r\u001b[K     |████████████████████▉           | 430kB 2.7MB/s eta 0:00:01\r\u001b[K     |█████████████████████▍          | 440kB 2.7MB/s eta 0:00:01\r\u001b[K     |█████████████████████▉          | 450kB 2.7MB/s eta 0:00:01\r\u001b[K     |██████████████████████▍         | 460kB 2.7MB/s eta 0:00:01\r\u001b[K     |██████████████████████▉         | 471kB 2.7MB/s eta 0:00:01\r\u001b[K     |███████████████████████▎        | 481kB 2.7MB/s eta 0:00:01\r\u001b[K     |███████████████████████▉        | 491kB 2.7MB/s eta 0:00:01\r\u001b[K     |████████████████████████▎       | 501kB 2.7MB/s eta 0:00:01\r\u001b[K     |████████████████████████▉       | 512kB 2.7MB/s eta 0:00:01\r\u001b[K     |█████████████████████████▎      | 522kB 2.7MB/s eta 0:00:01\r\u001b[K     |█████████████████████████▉      | 532kB 2.7MB/s eta 0:00:01\r\u001b[K     |██████████████████████████▎     | 542kB 2.7MB/s eta 0:00:01\r\u001b[K     |██████████████████████████▉     | 552kB 2.7MB/s eta 0:00:01\r\u001b[K     |███████████████████████████▎    | 563kB 2.7MB/s eta 0:00:01\r\u001b[K     |███████████████████████████▉    | 573kB 2.7MB/s eta 0:00:01\r\u001b[K     |████████████████████████████▎   | 583kB 2.7MB/s eta 0:00:01\r\u001b[K     |████████████████████████████▉   | 593kB 2.7MB/s eta 0:00:01\r\u001b[K     |█████████████████████████████▎  | 604kB 2.7MB/s eta 0:00:01\r\u001b[K     |█████████████████████████████▉  | 614kB 2.7MB/s eta 0:00:01\r\u001b[K     |██████████████████████████████▎ | 624kB 2.7MB/s eta 0:00:01\r\u001b[K     |██████████████████████████████▊ | 634kB 2.7MB/s eta 0:00:01\r\u001b[K     |███████████████████████████████▎| 645kB 2.7MB/s eta 0:00:01\r\u001b[K     |███████████████████████████████▊| 655kB 2.7MB/s eta 0:00:01\r\u001b[K     |████████████████████████████████| 665kB 2.7MB/s \n",
            "\u001b[?25hRequirement already satisfied: dataclasses; python_version < \"3.7\" in /usr/local/lib/python3.6/dist-packages (from transformers) (0.7)\n",
            "Requirement already satisfied: filelock in /usr/local/lib/python3.6/dist-packages (from transformers) (3.0.12)\n",
            "Requirement already satisfied: regex!=2019.12.17 in /usr/local/lib/python3.6/dist-packages (from transformers) (2019.12.20)\n",
            "Collecting sentencepiece\n",
            "\u001b[?25l  Downloading https://files.pythonhosted.org/packages/d4/a4/d0a884c4300004a78cca907a6ff9a5e9fe4f090f5d95ab341c53d28cbc58/sentencepiece-0.1.91-cp36-cp36m-manylinux1_x86_64.whl (1.1MB)\n",
            "\u001b[K     |████████████████████████████████| 1.1MB 54.4MB/s \n",
            "\u001b[?25hRequirement already satisfied: requests in /usr/local/lib/python3.6/dist-packages (from transformers) (2.23.0)\n",
            "Collecting sacremoses\n",
            "\u001b[?25l  Downloading https://files.pythonhosted.org/packages/7d/34/09d19aff26edcc8eb2a01bed8e98f13a1537005d31e95233fd48216eed10/sacremoses-0.0.43.tar.gz (883kB)\n",
            "\u001b[K     |████████████████████████████████| 890kB 59.0MB/s \n",
            "\u001b[?25hCollecting tokenizers==0.7.0\n",
            "\u001b[?25l  Downloading https://files.pythonhosted.org/packages/14/e5/a26eb4716523808bb0a799fcfdceb6ebf77a18169d9591b2f46a9adb87d9/tokenizers-0.7.0-cp36-cp36m-manylinux1_x86_64.whl (3.8MB)\n",
            "\u001b[K     |████████████████████████████████| 3.8MB 43.5MB/s \n",
            "\u001b[?25hRequirement already satisfied: numpy in /usr/local/lib/python3.6/dist-packages (from transformers) (1.18.4)\n",
            "Requirement already satisfied: tqdm>=4.27 in /usr/local/lib/python3.6/dist-packages (from transformers) (4.41.1)\n",
            "Requirement already satisfied: urllib3!=1.25.0,!=1.25.1,<1.26,>=1.21.1 in /usr/local/lib/python3.6/dist-packages (from requests->transformers) (1.24.3)\n",
            "Requirement already satisfied: chardet<4,>=3.0.2 in /usr/local/lib/python3.6/dist-packages (from requests->transformers) (3.0.4)\n",
            "Requirement already satisfied: idna<3,>=2.5 in /usr/local/lib/python3.6/dist-packages (from requests->transformers) (2.9)\n",
            "Requirement already satisfied: certifi>=2017.4.17 in /usr/local/lib/python3.6/dist-packages (from requests->transformers) (2020.4.5.1)\n",
            "Requirement already satisfied: six in /usr/local/lib/python3.6/dist-packages (from sacremoses->transformers) (1.12.0)\n",
            "Requirement already satisfied: click in /usr/local/lib/python3.6/dist-packages (from sacremoses->transformers) (7.1.2)\n",
            "Requirement already satisfied: joblib in /usr/local/lib/python3.6/dist-packages (from sacremoses->transformers) (0.15.1)\n",
            "Building wheels for collected packages: sacremoses\n",
            "  Building wheel for sacremoses (setup.py) ... \u001b[?25l\u001b[?25hdone\n",
            "  Created wheel for sacremoses: filename=sacremoses-0.0.43-cp36-none-any.whl size=893260 sha256=e092574915add1c28a2af2db8e6c7b0a8a140f322fd6bf050590175026bf617e\n",
            "  Stored in directory: /root/.cache/pip/wheels/29/3c/fd/7ce5c3f0666dab31a50123635e6fb5e19ceb42ce38d4e58f45\n",
            "Successfully built sacremoses\n",
            "Installing collected packages: sentencepiece, sacremoses, tokenizers, transformers\n",
            "Successfully installed sacremoses-0.0.43 sentencepiece-0.1.91 tokenizers-0.7.0 transformers-2.10.0\n"
          ],
          "name": "stdout"
        }
      ]
    },
    {
      "cell_type": "markdown",
      "metadata": {
        "id": "GuwKszcXohZ-",
        "colab_type": "text"
      },
      "source": [
        "Single Inference :\n",
        "===================\n"
      ]
    },
    {
      "cell_type": "code",
      "metadata": {
        "id": "fsvFIf2an4Fe",
        "colab_type": "code",
        "colab": {}
      },
      "source": [
        "from transformers import DistilBertTokenizer, DistilBertForQuestionAnswering\n",
        "import torch"
      ],
      "execution_count": 0,
      "outputs": []
    },
    {
      "cell_type": "code",
      "metadata": {
        "id": "2GQQxgk7oCcH",
        "colab_type": "code",
        "colab": {
          "base_uri": "https://localhost:8080/",
          "height": 166,
          "referenced_widgets": [
            "98c9c4fd53564cc5a9f0f9be2eafbc9f",
            "17b19b5dfcb44dca8cf06b61422b19f2",
            "f32fcad014834ee6a008065de7a55fc5",
            "3df6b5b955cb44a493259f1b795050ff",
            "0d80b3fe57c540c38d32d975ac9cd414",
            "c50cb9e1fb3c441cabf5657aa98ab5e5",
            "70ff843dd76943eea40bbf87f4d1961e",
            "72f4aeecde384c539b4b4d2061ba577c",
            "cdb005a177604f0fa19f4e9a985c5f1d",
            "edc38296945c4f119c1a01168f52882a",
            "f89018d058464ffb8eec7467478a5143",
            "5fab718abaa9448d9499cb48d770890d",
            "42dbce389137498e8a8f1f392c6c4498",
            "95a2f8d1c24445c3bdbb7d91d7830a98",
            "fa13042a32994136a1ce606861663a9e",
            "92462f89d92443dcb09c3fd7fddb8de9",
            "8f418ff6800740a39db78e5dcac444ad",
            "1f07a5e4503346f9ae9f520cb6e8732f",
            "cc5b8d2cff8848b28c15ad4d7c9da549",
            "bde45f6598db446c959332d13923675e",
            "4a8abe080a4748f2bd2af8688c216336",
            "b38b5613b143433d979595559fe8d9d7",
            "70c5399768314d819e8c396fa26a14a5",
            "ed63d3bb2f754af3bd06e7aea4928d4e"
          ]
        },
        "outputId": "4c50428f-11f7-4927-fe9e-4327bf3eb68d"
      },
      "source": [
        "tokenizer = DistilBertTokenizer.from_pretrained('distilbert-base-uncased',return_token_type_ids = True)\n",
        "model = DistilBertForQuestionAnswering.from_pretrained('distilbert-base-uncased-distilled-squad')"
      ],
      "execution_count": 4,
      "outputs": [
        {
          "output_type": "display_data",
          "data": {
            "application/vnd.jupyter.widget-view+json": {
              "model_id": "98c9c4fd53564cc5a9f0f9be2eafbc9f",
              "version_minor": 0,
              "version_major": 2
            },
            "text/plain": [
              "HBox(children=(FloatProgress(value=0.0, description='Downloading', max=231508.0, style=ProgressStyle(descripti…"
            ]
          },
          "metadata": {
            "tags": []
          }
        },
        {
          "output_type": "stream",
          "text": [
            "\n"
          ],
          "name": "stdout"
        },
        {
          "output_type": "display_data",
          "data": {
            "application/vnd.jupyter.widget-view+json": {
              "model_id": "cdb005a177604f0fa19f4e9a985c5f1d",
              "version_minor": 0,
              "version_major": 2
            },
            "text/plain": [
              "HBox(children=(FloatProgress(value=0.0, description='Downloading', max=451.0, style=ProgressStyle(description_…"
            ]
          },
          "metadata": {
            "tags": []
          }
        },
        {
          "output_type": "stream",
          "text": [
            "\n"
          ],
          "name": "stdout"
        },
        {
          "output_type": "display_data",
          "data": {
            "application/vnd.jupyter.widget-view+json": {
              "model_id": "8f418ff6800740a39db78e5dcac444ad",
              "version_minor": 0,
              "version_major": 2
            },
            "text/plain": [
              "HBox(children=(FloatProgress(value=0.0, description='Downloading', max=265481570.0, style=ProgressStyle(descri…"
            ]
          },
          "metadata": {
            "tags": []
          }
        },
        {
          "output_type": "stream",
          "text": [
            "\n"
          ],
          "name": "stdout"
        }
      ]
    },
    {
      "cell_type": "code",
      "metadata": {
        "id": "9WD7UP6qoRE-",
        "colab_type": "code",
        "colab": {}
      },
      "source": [
        "context = \"The US has passed the peak on new coronavirus cases, \" \\\n",
        "          \"President Donald Trump said and predicted that some states would reopen this month. \" \\\n",
        "          \"The US has over 637,000 confirmed Covid-19 cases and over 30,826 deaths, the highest for any country in the world.\"\n",
        "\n",
        "question = \"What was President Donald Trump's prediction?\""
      ],
      "execution_count": 0,
      "outputs": []
    },
    {
      "cell_type": "code",
      "metadata": {
        "id": "pfiGc5GAoUQc",
        "colab_type": "code",
        "colab": {}
      },
      "source": [
        "encoding = tokenizer.encode_plus(question, context)\n",
        "\n",
        "input_ids, attention_mask = encoding[\"input_ids\"], encoding[\"attention_mask\"]"
      ],
      "execution_count": 0,
      "outputs": []
    },
    {
      "cell_type": "code",
      "metadata": {
        "id": "tNy4sEbMoXle",
        "colab_type": "code",
        "colab": {
          "base_uri": "https://localhost:8080/",
          "height": 141
        },
        "outputId": "3f68982a-8617-4043-9bbc-d5f24f97fd1d"
      },
      "source": [
        "start_scores, end_scores = model(torch.tensor([input_ids]), attention_mask=torch.tensor([attention_mask]))\n",
        "\n",
        "ans_tokens = input_ids[torch.argmax(start_scores) : torch.argmax(end_scores)+1]\n",
        "answer_tokens = tokenizer.convert_ids_to_tokens(ans_tokens , skip_special_tokens=True)\n",
        "\n",
        "print (\"\\nQuestion \",question)\n",
        "print (\"\\nAnswer Tokens: \")\n",
        "print (answer_tokens)\n",
        "\n",
        "answer_tokens_to_string = tokenizer.convert_tokens_to_string(answer_tokens)\n",
        "\n",
        "print(\"\\nAnswer : \",answer_tokens_to_string)\n"
      ],
      "execution_count": 7,
      "outputs": [
        {
          "output_type": "stream",
          "text": [
            "\n",
            "Question  What was President Donald Trump's prediction?\n",
            "\n",
            "Answer Tokens: \n",
            "['some', 'states', 'would', 're', '##open', 'this', 'month']\n",
            "\n",
            "Answer :  some states would reopen this month\n"
          ],
          "name": "stdout"
        }
      ]
    },
    {
      "cell_type": "code",
      "metadata": {
        "id": "XNd1opdGocCb",
        "colab_type": "code",
        "colab": {}
      },
      "source": [
        ""
      ],
      "execution_count": 0,
      "outputs": []
    },
    {
      "cell_type": "code",
      "metadata": {
        "id": "OdRseAguoloa",
        "colab_type": "code",
        "colab": {}
      },
      "source": [
        ""
      ],
      "execution_count": 0,
      "outputs": []
    },
    {
      "cell_type": "code",
      "metadata": {
        "id": "Dyxf7PIRolrP",
        "colab_type": "code",
        "colab": {}
      },
      "source": [
        ""
      ],
      "execution_count": 0,
      "outputs": []
    },
    {
      "cell_type": "markdown",
      "metadata": {
        "id": "KCRetTqXol4N",
        "colab_type": "text"
      },
      "source": [
        "Batch Inference :\n",
        "==================\n"
      ]
    },
    {
      "cell_type": "code",
      "metadata": {
        "id": "wNz1q6XHopLy",
        "colab_type": "code",
        "colab": {}
      },
      "source": [
        "from transformers import DistilBertTokenizer, DistilBertForQuestionAnswering\n",
        "import torch\n"
      ],
      "execution_count": 0,
      "outputs": []
    },
    {
      "cell_type": "code",
      "metadata": {
        "id": "LzPU5lM_oqy5",
        "colab_type": "code",
        "colab": {}
      },
      "source": [
        "tokenizer = DistilBertTokenizer.from_pretrained('distilbert-base-uncased',return_token_type_ids = True)\n",
        "model = DistilBertForQuestionAnswering.from_pretrained('distilbert-base-uncased-distilled-squad')"
      ],
      "execution_count": 0,
      "outputs": []
    },
    {
      "cell_type": "code",
      "metadata": {
        "id": "kGY6isSMosvg",
        "colab_type": "code",
        "colab": {
          "base_uri": "https://localhost:8080/",
          "height": 90
        },
        "outputId": "f5aa2622-61fe-4edb-e7ce-366ebe627d82"
      },
      "source": [
        "context = \"The US has passed the peak on new coronavirus cases, \" \\\n",
        "          \"President Donald Trump said and predicted that some states would reopen this month.\" \\\n",
        "          \"The US has over 637,000 confirmed Covid-19 cases and over 30,826 deaths, \" \\\n",
        "          \"the highest for any country in the world.\"\n",
        "\n",
        "print (\"\\n\\nContext : \",context)\n",
        "\n",
        "questions = [\"What was President Donald Trump's prediction?\",\n",
        "             \"How many deaths have been reported from the virus?\",\n",
        "             \"How many cases have been reported in the United States?\"]"
      ],
      "execution_count": 10,
      "outputs": [
        {
          "output_type": "stream",
          "text": [
            "\n",
            "\n",
            "Context :  The US has passed the peak on new coronavirus cases, President Donald Trump said and predicted that some states would reopen this month.The US has over 637,000 confirmed Covid-19 cases and over 30,826 deaths, the highest for any country in the world.\n"
          ],
          "name": "stdout"
        }
      ]
    },
    {
      "cell_type": "code",
      "metadata": {
        "id": "j9fdLN6KovaK",
        "colab_type": "code",
        "colab": {}
      },
      "source": [
        "question_context_for_batch = []\n",
        "\n",
        "for question in questions :\n",
        "    question_context_for_batch.append((question, context))"
      ],
      "execution_count": 0,
      "outputs": []
    },
    {
      "cell_type": "code",
      "metadata": {
        "id": "ZwhMTdpnoyTH",
        "colab_type": "code",
        "colab": {}
      },
      "source": [
        "encoding = tokenizer.batch_encode_plus(question_context_for_batch,pad_to_max_length=True, return_tensors=\"pt\")\n",
        "input_ids, attention_mask = encoding[\"input_ids\"], encoding[\"attention_mask\"]"
      ],
      "execution_count": 0,
      "outputs": []
    },
    {
      "cell_type": "code",
      "metadata": {
        "id": "fpiDbDG-o0bv",
        "colab_type": "code",
        "colab": {
          "base_uri": "https://localhost:8080/",
          "height": 176
        },
        "outputId": "6d72a98e-873f-4810-92dc-5ac5f10587ac"
      },
      "source": [
        "start_scores, end_scores = model(input_ids, attention_mask=attention_mask)\n",
        "\n",
        "for index,(start_score,end_score,input_id) in enumerate(zip(start_scores,end_scores,input_ids)):\n",
        "    max_startscore = torch.argmax(start_score)\n",
        "    max_endscore = torch.argmax(end_score)\n",
        "\n",
        "    ans_tokens = input_ids[index][max_startscore: max_endscore + 1]\n",
        "    \n",
        "    answer_tokens = tokenizer.convert_ids_to_tokens(ans_tokens, skip_special_tokens=True)\n",
        "    answer_tokens_to_string = tokenizer.convert_tokens_to_string(answer_tokens)\n",
        "    \n",
        "    print (\"\\nQuestion: \",questions[index])\n",
        "    print (\"Answer: \", answer_tokens_to_string)\n"
      ],
      "execution_count": 13,
      "outputs": [
        {
          "output_type": "stream",
          "text": [
            "\n",
            "Question:  What was President Donald Trump's prediction?\n",
            "Answer:  some states would reopen this month\n",
            "\n",
            "Question:  How many deaths have been reported from the virus?\n",
            "Answer:  30 , 826\n",
            "\n",
            "Question:  How many cases have been reported in the United States?\n",
            "Answer:  over 637 , 000\n"
          ],
          "name": "stdout"
        }
      ]
    },
    {
      "cell_type": "code",
      "metadata": {
        "id": "ZYzW6FoJo9g7",
        "colab_type": "code",
        "colab": {}
      },
      "source": [
        ""
      ],
      "execution_count": 0,
      "outputs": []
    },
    {
      "cell_type": "code",
      "metadata": {
        "id": "lHcCR2u_o_Hm",
        "colab_type": "code",
        "colab": {}
      },
      "source": [
        ""
      ],
      "execution_count": 0,
      "outputs": []
    },
    {
      "cell_type": "code",
      "metadata": {
        "id": "2uPLCxsZo_Kl",
        "colab_type": "code",
        "colab": {}
      },
      "source": [
        ""
      ],
      "execution_count": 0,
      "outputs": []
    }
  ]
}