{
  "nbformat": 4,
  "nbformat_minor": 0,
  "metadata": {
    "colab": {
      "name": "Polyglot.ipynb",
      "provenance": [],
      "collapsed_sections": [],
      "authorship_tag": "ABX9TyMaGBAZAEn4Leo3PF0EQf0v",
      "include_colab_link": true
    },
    "kernelspec": {
      "name": "python3",
      "display_name": "Python 3"
    },
    "accelerator": "GPU"
  },
  "cells": [
    {
      "cell_type": "markdown",
      "metadata": {
        "id": "view-in-github",
        "colab_type": "text"
      },
      "source": [
        "<a href=\"https://colab.research.google.com/github/biranchi2018/My-NLP-Examples/blob/master/9.Polyglot.ipynb\" target=\"_parent\"><img src=\"https://colab.research.google.com/assets/colab-badge.svg\" alt=\"Open In Colab\"/></a>"
      ]
    },
    {
      "cell_type": "markdown",
      "metadata": {
        "id": "xL5eOthUD_Ya",
        "colab_type": "text"
      },
      "source": [
        "# Polyglot\n",
        "\n",
        "https://polyglot.readthedocs.io/en/latest/Installation.html"
      ]
    },
    {
      "cell_type": "code",
      "metadata": {
        "id": "z2Ab4mMCD96e",
        "colab_type": "code",
        "colab": {
          "base_uri": "https://localhost:8080/",
          "height": 33
        },
        "outputId": "70414f4d-2a87-4471-aa4f-b287cf0cde0c"
      },
      "source": [
        "!pip install polyglot"
      ],
      "execution_count": 25,
      "outputs": [
        {
          "output_type": "stream",
          "text": [
            "Requirement already satisfied: polyglot in /usr/local/lib/python3.6/dist-packages (16.7.4)\n"
          ],
          "name": "stdout"
        }
      ]
    },
    {
      "cell_type": "code",
      "metadata": {
        "id": "Xyu2ah2m_JC3",
        "colab_type": "code",
        "colab": {
          "base_uri": "https://localhost:8080/",
          "height": 200
        },
        "outputId": "a9e15388-96e1-468d-deba-94468286d414"
      },
      "source": [
        "!pip install PyICU "
      ],
      "execution_count": 5,
      "outputs": [
        {
          "output_type": "stream",
          "text": [
            "Collecting PyICU\n",
            "\u001b[?25l  Downloading https://files.pythonhosted.org/packages/5a/99/c48c816095208bf3f4936ff67e571621fbddef461303a35a076f234e31f6/PyICU-2.5.tar.gz (225kB)\n",
            "\r\u001b[K     |█▌                              | 10kB 25.8MB/s eta 0:00:01\r\u001b[K     |███                             | 20kB 2.2MB/s eta 0:00:01\r\u001b[K     |████▍                           | 30kB 2.8MB/s eta 0:00:01\r\u001b[K     |█████▉                          | 40kB 3.1MB/s eta 0:00:01\r\u001b[K     |███████▎                        | 51kB 2.6MB/s eta 0:00:01\r\u001b[K     |████████▊                       | 61kB 2.9MB/s eta 0:00:01\r\u001b[K     |██████████▏                     | 71kB 3.1MB/s eta 0:00:01\r\u001b[K     |███████████▋                    | 81kB 3.4MB/s eta 0:00:01\r\u001b[K     |█████████████                   | 92kB 3.6MB/s eta 0:00:01\r\u001b[K     |██████████████▌                 | 102kB 3.5MB/s eta 0:00:01\r\u001b[K     |████████████████                | 112kB 3.5MB/s eta 0:00:01\r\u001b[K     |█████████████████▍              | 122kB 3.5MB/s eta 0:00:01\r\u001b[K     |██████████████████▉             | 133kB 3.5MB/s eta 0:00:01\r\u001b[K     |████████████████████▍           | 143kB 3.5MB/s eta 0:00:01\r\u001b[K     |█████████████████████▉          | 153kB 3.5MB/s eta 0:00:01\r\u001b[K     |███████████████████████▎        | 163kB 3.5MB/s eta 0:00:01\r\u001b[K     |████████████████████████▊       | 174kB 3.5MB/s eta 0:00:01\r\u001b[K     |██████████████████████████▏     | 184kB 3.5MB/s eta 0:00:01\r\u001b[K     |███████████████████████████▋    | 194kB 3.5MB/s eta 0:00:01\r\u001b[K     |█████████████████████████████   | 204kB 3.5MB/s eta 0:00:01\r\u001b[K     |██████████████████████████████▌ | 215kB 3.5MB/s eta 0:00:01\r\u001b[K     |████████████████████████████████| 225kB 3.5MB/s eta 0:00:01\r\u001b[K     |████████████████████████████████| 235kB 3.5MB/s \n",
            "\u001b[?25hBuilding wheels for collected packages: PyICU\n",
            "  Building wheel for PyICU (setup.py) ... \u001b[?25l\u001b[?25hdone\n",
            "  Created wheel for PyICU: filename=PyICU-2.5-cp36-cp36m-linux_x86_64.whl size=1252636 sha256=a84ad5a77658d5edbe7fb3b0cf97b3c992dbc2c1041b7ad2f9a3149531fe6df3\n",
            "  Stored in directory: /root/.cache/pip/wheels/07/3a/28/09f90c38785945ddf9af61b7add1aa62a740f40e259626ef3a\n",
            "Successfully built PyICU\n",
            "Installing collected packages: PyICU\n",
            "Successfully installed PyICU-2.5\n"
          ],
          "name": "stdout"
        }
      ]
    },
    {
      "cell_type": "code",
      "metadata": {
        "id": "jIG-quPrAUtd",
        "colab_type": "code",
        "colab": {
          "base_uri": "https://localhost:8080/",
          "height": 200
        },
        "outputId": "52769ea4-0527-41f7-e47e-f47d31110d8d"
      },
      "source": [
        "!pip install pycld2"
      ],
      "execution_count": 8,
      "outputs": [
        {
          "output_type": "stream",
          "text": [
            "Collecting pycld2\n",
            "\u001b[?25l  Downloading https://files.pythonhosted.org/packages/21/d2/8b0def84a53c88d0eb27c67b05269fbd16ad68df8c78849e7b5d65e6aec3/pycld2-0.41.tar.gz (41.4MB)\n",
            "\u001b[K     |████████████████████████████████| 41.4MB 75kB/s \n",
            "\u001b[?25hBuilding wheels for collected packages: pycld2\n",
            "  Building wheel for pycld2 (setup.py) ... \u001b[?25l\u001b[?25hdone\n",
            "  Created wheel for pycld2: filename=pycld2-0.41-cp36-cp36m-linux_x86_64.whl size=9833461 sha256=f619e54190f7dad1ae90aec51eddfbdf50921d6851d5d9fab0cc0166c492c296\n",
            "  Stored in directory: /root/.cache/pip/wheels/c6/8f/e9/08a1a8932a490175bd140206cd86a3dbcfc70498100de11079\n",
            "Successfully built pycld2\n",
            "Installing collected packages: pycld2\n",
            "Successfully installed pycld2-0.41\n"
          ],
          "name": "stdout"
        }
      ]
    },
    {
      "cell_type": "code",
      "metadata": {
        "id": "ITcGmqkLEL1w",
        "colab_type": "code",
        "colab": {
          "base_uri": "https://localhost:8080/",
          "height": 33
        },
        "outputId": "6425d75b-dfd1-48cf-e041-e26625fcf613"
      },
      "source": [
        "!pip install morfessor"
      ],
      "execution_count": 26,
      "outputs": [
        {
          "output_type": "stream",
          "text": [
            "Requirement already satisfied: morfessor in /usr/local/lib/python3.6/dist-packages (2.0.6)\n"
          ],
          "name": "stdout"
        }
      ]
    },
    {
      "cell_type": "code",
      "metadata": {
        "id": "W5i4DMJ1-rUc",
        "colab_type": "code",
        "colab": {
          "base_uri": "https://localhost:8080/",
          "height": 33
        },
        "outputId": "ee364046-6bc1-49e5-f1c3-c9971013296e"
      },
      "source": [
        "from polyglot.downloader import downloader\n",
        "downloader.supported_tasks(lang=\"or\")"
      ],
      "execution_count": 24,
      "outputs": [
        {
          "output_type": "execute_result",
          "data": {
            "text/plain": [
              "['sgns2', 'counts2', 'embeddings2', 'sentiment2', 'tsne2', 'morph2']"
            ]
          },
          "metadata": {
            "tags": []
          },
          "execution_count": 24
        }
      ]
    },
    {
      "cell_type": "code",
      "metadata": {
        "id": "lfyyL6KRBzkI",
        "colab_type": "code",
        "colab": {}
      },
      "source": [
        ""
      ],
      "execution_count": 0,
      "outputs": []
    },
    {
      "cell_type": "code",
      "metadata": {
        "id": "AChyJ0m8B2To",
        "colab_type": "code",
        "colab": {
          "base_uri": "https://localhost:8080/",
          "height": 277
        },
        "outputId": "736f57cb-e37f-487c-f055-53bb8ce05b71"
      },
      "source": [
        "!polyglot download LANG:or"
      ],
      "execution_count": 12,
      "outputs": [
        {
          "output_type": "stream",
          "text": [
            "[polyglot_data] Downloading collection 'LANG:or'\n",
            "[polyglot_data]    | \n",
            "[polyglot_data]    | Downloading package sgns2.or to\n",
            "[polyglot_data]    |     /root/polyglot_data...\n",
            "[polyglot_data]    | Downloading package counts2.or to\n",
            "[polyglot_data]    |     /root/polyglot_data...\n",
            "[polyglot_data]    | Downloading package embeddings2.or to\n",
            "[polyglot_data]    |     /root/polyglot_data...\n",
            "[polyglot_data]    | Downloading package sentiment2.or to\n",
            "[polyglot_data]    |     /root/polyglot_data...\n",
            "[polyglot_data]    | Downloading package tsne2.or to\n",
            "[polyglot_data]    |     /root/polyglot_data...\n",
            "[polyglot_data]    | Downloading package morph2.or to\n",
            "[polyglot_data]    |     /root/polyglot_data...\n",
            "[polyglot_data]    | \n",
            "[polyglot_data]  Done downloading collection LANG:or\n"
          ],
          "name": "stdout"
        }
      ]
    },
    {
      "cell_type": "code",
      "metadata": {
        "id": "ikVzKU-9B4u4",
        "colab_type": "code",
        "colab": {
          "base_uri": "https://localhost:8080/",
          "height": 33
        },
        "outputId": "3c72c25e-82a1-4a20-a595-041bea7edc1e"
      },
      "source": [
        "!ls /root/polyglot_data"
      ],
      "execution_count": 13,
      "outputs": [
        {
          "output_type": "stream",
          "text": [
            "counts2  embeddings2  morph2  sentiment2  sgns2  tsne2\n"
          ],
          "name": "stdout"
        }
      ]
    },
    {
      "cell_type": "code",
      "metadata": {
        "id": "gxU_61JtCGwR",
        "colab_type": "code",
        "colab": {
          "base_uri": "https://localhost:8080/",
          "height": 50
        },
        "outputId": "91339e23-9e0c-4475-850e-b379919f6dde"
      },
      "source": [
        "!ls"
      ],
      "execution_count": 15,
      "outputs": [
        {
          "output_type": "stream",
          "text": [
            "sample_data\n",
            "/bin/bash: !pwd: command not found\n"
          ],
          "name": "stdout"
        }
      ]
    },
    {
      "cell_type": "code",
      "metadata": {
        "id": "w2fLKryACMRN",
        "colab_type": "code",
        "colab": {
          "base_uri": "https://localhost:8080/",
          "height": 33
        },
        "outputId": "a1facf6e-b2fd-4727-843b-a4effdd057b7"
      },
      "source": [
        "!pwd"
      ],
      "execution_count": 16,
      "outputs": [
        {
          "output_type": "stream",
          "text": [
            "/content\n"
          ],
          "name": "stdout"
        }
      ]
    },
    {
      "cell_type": "code",
      "metadata": {
        "id": "ElZnlZsZCQ5d",
        "colab_type": "code",
        "colab": {}
      },
      "source": [
        "!cp -R /root/polyglot_data/* /content/"
      ],
      "execution_count": 0,
      "outputs": []
    },
    {
      "cell_type": "code",
      "metadata": {
        "id": "flrtewzyCXxk",
        "colab_type": "code",
        "colab": {}
      },
      "source": [
        ""
      ],
      "execution_count": 0,
      "outputs": []
    },
    {
      "cell_type": "markdown",
      "metadata": {
        "id": "0v1szEOEEcXE",
        "colab_type": "text"
      },
      "source": [
        "## Language Detection"
      ]
    },
    {
      "cell_type": "code",
      "metadata": {
        "id": "yFe2fuM2Efg0",
        "colab_type": "code",
        "colab": {}
      },
      "source": [
        "from polyglot.detect import Detector\n"
      ],
      "execution_count": 0,
      "outputs": []
    },
    {
      "cell_type": "code",
      "metadata": {
        "id": "NTn5HQYTEgsv",
        "colab_type": "code",
        "colab": {
          "base_uri": "https://localhost:8080/",
          "height": 33
        },
        "outputId": "9ae7222a-26da-4121-9e49-92c5aa22a6e4"
      },
      "source": [
        "text = \"ରାଜା\"\n",
        "\n",
        "detector = Detector(text)\n",
        "print(detector.language)"
      ],
      "execution_count": 29,
      "outputs": [
        {
          "output_type": "stream",
          "text": [
            "name: Odia        code: or       confidence: 100.0 read bytes:  1024\n"
          ],
          "name": "stdout"
        }
      ]
    },
    {
      "cell_type": "code",
      "metadata": {
        "id": "nIVHJpGaEpvs",
        "colab_type": "code",
        "colab": {}
      },
      "source": [
        ""
      ],
      "execution_count": 0,
      "outputs": []
    },
    {
      "cell_type": "markdown",
      "metadata": {
        "id": "r3REy-diE5-3",
        "colab_type": "text"
      },
      "source": [
        "## Word Tokenization"
      ]
    },
    {
      "cell_type": "code",
      "metadata": {
        "id": "3E17pk5lEqD4",
        "colab_type": "code",
        "colab": {}
      },
      "source": [
        "from polyglot.text import Text\n"
      ],
      "execution_count": 0,
      "outputs": []
    },
    {
      "cell_type": "code",
      "metadata": {
        "id": "a6xjxIlOEqHB",
        "colab_type": "code",
        "colab": {}
      },
      "source": [
        "blob = u\"\"\"\n",
        "ବିନ୍ଧ୍ୟ ପର୍ବତରେ ଗୋଟାଏ ଆକାଶଚୁମ୍ବୀ ଅର୍ଜୁନ ଗଛ ଥିଲା । ସେ ଗଛରେ ଏକ ବିଚିତ୍ର ପକ୍ଷୀ ବାସ କରୁଥିଲା । ଅତି ଉଜ୍ଜ୍ୱଳ ସୁନାରଙ୍ଗର ପର ଓ ନାଲି ଚଂଚୁ, ପ୍ରକୃତରେ ପକ୍ଷୀଟି ଅତି ସୁନ୍ଦରଦେଖା ଯାଉଥିଲା । \n",
        "\"\"\"\n",
        "text = Text(blob)"
      ],
      "execution_count": 0,
      "outputs": []
    },
    {
      "cell_type": "code",
      "metadata": {
        "id": "n2T1s56jFEZp",
        "colab_type": "code",
        "colab": {
          "base_uri": "https://localhost:8080/",
          "height": 53
        },
        "outputId": "7ff96cea-3ef1-453d-b7b0-d2da1b2291ee"
      },
      "source": [
        "text.words"
      ],
      "execution_count": 36,
      "outputs": [
        {
          "output_type": "execute_result",
          "data": {
            "text/plain": [
              "WordList(['ବିନ୍ଧ୍ୟ', 'ପର୍ବତରେ', 'ଗୋଟାଏ', 'ଆକାଶଚୁମ୍ବୀ', 'ଅର୍ଜୁନ', 'ଗଛ', 'ଥିଲା', '।', 'ସେ', 'ଗଛରେ', 'ଏକ', 'ବିଚିତ୍ର', 'ପକ୍ଷୀ', 'ବାସ', 'କରୁଥିଲା', '।', 'ଅତି', 'ଉଜ୍ଜ୍ୱଳ', 'ସୁନାରଙ୍ଗର', 'ପର', 'ଓ', 'ନାଲି', 'ଚଂଚୁ', ',', 'ପ୍ରକୃତରେ', 'ପକ୍ଷୀଟି', 'ଅତି', 'ସୁନ୍ଦରଦେଖା', 'ଯାଉଥିଲା', '।'])"
            ]
          },
          "metadata": {
            "tags": []
          },
          "execution_count": 36
        }
      ]
    },
    {
      "cell_type": "code",
      "metadata": {
        "id": "ry6OivfBFEcg",
        "colab_type": "code",
        "colab": {
          "base_uri": "https://localhost:8080/",
          "height": 33
        },
        "outputId": "db73432f-a126-447f-c8cb-e0e891473294"
      },
      "source": [
        "print(text.language)"
      ],
      "execution_count": 37,
      "outputs": [
        {
          "output_type": "stream",
          "text": [
            "name: Odia        code: or       confidence: 100.0 read bytes:  1024\n"
          ],
          "name": "stdout"
        }
      ]
    },
    {
      "cell_type": "code",
      "metadata": {
        "id": "fAVH-DZeFMI3",
        "colab_type": "code",
        "colab": {}
      },
      "source": [
        ""
      ],
      "execution_count": 0,
      "outputs": []
    },
    {
      "cell_type": "code",
      "metadata": {
        "id": "_HBNYeH_FMMN",
        "colab_type": "code",
        "colab": {
          "base_uri": "https://localhost:8080/",
          "height": 66
        },
        "outputId": "dad90e27-8adc-44e6-e68f-ce20987de4f4"
      },
      "source": [
        "text.sentences"
      ],
      "execution_count": 38,
      "outputs": [
        {
          "output_type": "execute_result",
          "data": {
            "text/plain": [
              "[Sentence(\"ବିନ୍ଧ୍ୟ ପର୍ବତରେ ଗୋଟାଏ ଆକାଶଚୁମ୍ବୀ ଅର୍ଜୁନ ଗଛ ଥିଲା ।\"),\n",
              " Sentence(\"ସେ ଗଛରେ ଏକ ବିଚିତ୍ର ପକ୍ଷୀ ବାସ କରୁଥିଲା ।\"),\n",
              " Sentence(\"ଅତି ଉଜ୍ଜ୍ୱଳ ସୁନାରଙ୍ଗର ପର ଓ ନାଲି ଚଂଚୁ, ପ୍ରକୃତରେ ପକ୍ଷୀଟି ଅତି ସୁନ୍ଦରଦେଖା ଯାଉଥିଲା ।\")]"
            ]
          },
          "metadata": {
            "tags": []
          },
          "execution_count": 38
        }
      ]
    },
    {
      "cell_type": "code",
      "metadata": {
        "id": "rN_LWQ65FEfh",
        "colab_type": "code",
        "colab": {}
      },
      "source": [
        ""
      ],
      "execution_count": 0,
      "outputs": []
    },
    {
      "cell_type": "markdown",
      "metadata": {
        "id": "fm8uqJl2EYRK",
        "colab_type": "text"
      },
      "source": [
        "## Word Embedding"
      ]
    },
    {
      "cell_type": "code",
      "metadata": {
        "id": "7wFDTP3CC24w",
        "colab_type": "code",
        "colab": {}
      },
      "source": [
        "from polyglot.mapping import Embedding\n",
        "import os"
      ],
      "execution_count": 0,
      "outputs": []
    },
    {
      "cell_type": "code",
      "metadata": {
        "id": "CWEh_sHqDip4",
        "colab_type": "code",
        "colab": {
          "base_uri": "https://localhost:8080/",
          "height": 33
        },
        "outputId": "818e547f-af5b-402d-80d9-cc2e8ab9a173"
      },
      "source": [
        "embedding_path = os.path.join(\"/root/polyglot_data\", \"embeddings2\", \"or\", \"embeddings_pkl.tar.bz2\")\n",
        "embedding_path"
      ],
      "execution_count": 22,
      "outputs": [
        {
          "output_type": "execute_result",
          "data": {
            "text/plain": [
              "'/root/polyglot_data/embeddings2/or/embeddings_pkl.tar.bz2'"
            ]
          },
          "metadata": {
            "tags": []
          },
          "execution_count": 22
        }
      ]
    },
    {
      "cell_type": "code",
      "metadata": {
        "id": "AMYihQE9C795",
        "colab_type": "code",
        "colab": {
          "base_uri": "https://localhost:8080/",
          "height": 33
        },
        "outputId": "020e2345-3b09-4495-be5f-8dac9a9308c0"
      },
      "source": [
        "embedding_path = os.path.join(os.getcwd(), \"embeddings2\", \"or\", \"embeddings_pkl.tar.bz2\")\n",
        "embedding_path"
      ],
      "execution_count": 20,
      "outputs": [
        {
          "output_type": "execute_result",
          "data": {
            "text/plain": [
              "'/content/embeddings2/or/embeddings_pkl.tar.bz2'"
            ]
          },
          "metadata": {
            "tags": []
          },
          "execution_count": 20
        }
      ]
    },
    {
      "cell_type": "code",
      "metadata": {
        "id": "Eo91zo5yC3mL",
        "colab_type": "code",
        "colab": {
          "base_uri": "https://localhost:8080/",
          "height": 33
        },
        "outputId": "7db5f9a6-927a-4d64-db70-e0704d1265a7"
      },
      "source": [
        "embeddings = Embedding.load(embedding_path)\n",
        "embeddings"
      ],
      "execution_count": 21,
      "outputs": [
        {
          "output_type": "execute_result",
          "data": {
            "text/plain": [
              "<polyglot.mapping.embeddings.Embedding at 0x7f7ac2f0e748>"
            ]
          },
          "metadata": {
            "tags": []
          },
          "execution_count": 21
        }
      ]
    },
    {
      "cell_type": "code",
      "metadata": {
        "id": "Ei4jNFUdDaI5",
        "colab_type": "code",
        "colab": {
          "base_uri": "https://localhost:8080/",
          "height": 180
        },
        "outputId": "1e9ffc4d-1b4b-4885-d2e5-aee2d25ee948"
      },
      "source": [
        "neighbors = embeddings.nearest_neighbors(\"ରାଜା\")\n",
        "neighbors"
      ],
      "execution_count": 23,
      "outputs": [
        {
          "output_type": "execute_result",
          "data": {
            "text/plain": [
              "['ପୂର୍ବରୁ',\n",
              " 'କେବଳ',\n",
              " 'ଦେବୀ',\n",
              " 'ଭିତରେ',\n",
              " 'ବେଳେ',\n",
              " 'ସମୟ',\n",
              " 'ପ୍ରଥମେ',\n",
              " 'ବି',\n",
              " 'ପ୍ରତି',\n",
              " 'ଛୋଟ']"
            ]
          },
          "metadata": {
            "tags": []
          },
          "execution_count": 23
        }
      ]
    },
    {
      "cell_type": "code",
      "metadata": {
        "id": "2NZ2cbSKDxQy",
        "colab_type": "code",
        "colab": {}
      },
      "source": [
        ""
      ],
      "execution_count": 0,
      "outputs": []
    },
    {
      "cell_type": "code",
      "metadata": {
        "id": "Vps3D0kLFzdl",
        "colab_type": "code",
        "colab": {}
      },
      "source": [
        ""
      ],
      "execution_count": 0,
      "outputs": []
    },
    {
      "cell_type": "code",
      "metadata": {
        "id": "gp-IA28LFzg_",
        "colab_type": "code",
        "colab": {}
      },
      "source": [
        ""
      ],
      "execution_count": 0,
      "outputs": []
    },
    {
      "cell_type": "markdown",
      "metadata": {
        "id": "_B9wKg18Fzpy",
        "colab_type": "text"
      },
      "source": [
        "## POS Tagging"
      ]
    },
    {
      "cell_type": "code",
      "metadata": {
        "id": "BJe8osEdF07d",
        "colab_type": "code",
        "colab": {
          "base_uri": "https://localhost:8080/",
          "height": 115
        },
        "outputId": "f8f092e8-a275-4f16-c0cd-2a9ebf650008"
      },
      "source": [
        "from polyglot.downloader import downloader\n",
        "print(downloader.supported_languages_table(\"pos2\"))\n"
      ],
      "execution_count": 39,
      "outputs": [
        {
          "output_type": "stream",
          "text": [
            "  1. Italian                    2. French                     3. Spanish; Castilian       \n",
            "  4. Bulgarian                  5. Slovene                    6. Irish                    \n",
            "  7. Finnish                    8. Dutch                      9. Swedish                  \n",
            " 10. Danish                    11. Portuguese                12. English                  \n",
            " 13. German                    14. Indonesian                15. Czech                    \n",
            " 16. Hungarian                \n"
          ],
          "name": "stdout"
        }
      ]
    },
    {
      "cell_type": "code",
      "metadata": {
        "id": "rNGhiJQbF1h6",
        "colab_type": "code",
        "colab": {}
      },
      "source": [
        ""
      ],
      "execution_count": 0,
      "outputs": []
    },
    {
      "cell_type": "code",
      "metadata": {
        "id": "7MUHjnypHJcB",
        "colab_type": "code",
        "colab": {}
      },
      "source": [
        ""
      ],
      "execution_count": 0,
      "outputs": []
    },
    {
      "cell_type": "markdown",
      "metadata": {
        "id": "DCqe7ASOHJnU",
        "colab_type": "text"
      },
      "source": [
        "## Morphological Analysis"
      ]
    },
    {
      "cell_type": "code",
      "metadata": {
        "id": "XkYXlq2CHLYn",
        "colab_type": "code",
        "colab": {}
      },
      "source": [
        "from polyglot.text import Text, Word"
      ],
      "execution_count": 0,
      "outputs": []
    },
    {
      "cell_type": "code",
      "metadata": {
        "id": "_Ay55VBnHMIR",
        "colab_type": "code",
        "colab": {
          "base_uri": "https://localhost:8080/",
          "height": 180
        },
        "outputId": "39713932-7dc4-435a-ff0e-74ff48e91b74"
      },
      "source": [
        "# words = [\"preprocessing\", \"processor\", \"invaluable\", \"thankful\", \"crossed\"]\n",
        "words = neighbors\n",
        "for w in words:\n",
        "  w = Word(w, language=\"or\")\n",
        "  print(\"{:<20}{}\".format(w, w.morphemes))"
      ],
      "execution_count": 45,
      "outputs": [
        {
          "output_type": "stream",
          "text": [
            "ପୂର୍ବରୁ             ['ପୂର୍ବରୁ']\n",
            "କେବଳ                ['କେବଳ']\n",
            "ଦେବୀ                ['ଦେବୀ']\n",
            "ଭିତରେ               ['ଭିତରେ']\n",
            "ବେଳେ                ['ବେଳେ']\n",
            "ସମୟ                 ['ସମୟ']\n",
            "ପ୍ରଥମେ              ['ପ୍ରଥମେ']\n",
            "ବି                  ['ବି']\n",
            "ପ୍ରତି               ['ପ୍ରତି']\n",
            "ଛୋଟ                 ['ଛୋଟ']\n"
          ],
          "name": "stdout"
        }
      ]
    },
    {
      "cell_type": "code",
      "metadata": {
        "id": "X75zfSEFHMcU",
        "colab_type": "code",
        "colab": {}
      },
      "source": [
        ""
      ],
      "execution_count": 0,
      "outputs": []
    },
    {
      "cell_type": "code",
      "metadata": {
        "id": "-C5qExiUHMfc",
        "colab_type": "code",
        "colab": {}
      },
      "source": [
        ""
      ],
      "execution_count": 0,
      "outputs": []
    },
    {
      "cell_type": "markdown",
      "metadata": {
        "id": "YV55z6MbICfE",
        "colab_type": "text"
      },
      "source": [
        "## Sentiment"
      ]
    },
    {
      "cell_type": "code",
      "metadata": {
        "id": "iAeCDkLTIDvO",
        "colab_type": "code",
        "colab": {}
      },
      "source": [
        "from polyglot.text import Text\n"
      ],
      "execution_count": 0,
      "outputs": []
    },
    {
      "cell_type": "code",
      "metadata": {
        "id": "8269N_fbIEXF",
        "colab_type": "code",
        "colab": {
          "base_uri": "https://localhost:8080/",
          "height": 33
        },
        "outputId": "e5e39524-2818-4043-ba56-1f9517fbb800"
      },
      "source": [
        "text = Text(u\"ସେ ଗଛରେ ଏକ ବିଚିତ୍ର ପକ୍ଷୀ ବାସ କରୁଥିଲା ।\")\n",
        "text"
      ],
      "execution_count": 47,
      "outputs": [
        {
          "output_type": "execute_result",
          "data": {
            "text/plain": [
              "Text(\"ସେ ଗଛରେ ଏକ ବିଚିତ୍ର ପକ୍ଷୀ ବାସ କରୁଥିଲା ।\")"
            ]
          },
          "metadata": {
            "tags": []
          },
          "execution_count": 47
        }
      ]
    },
    {
      "cell_type": "code",
      "metadata": {
        "id": "YsuyWlXYIOoT",
        "colab_type": "code",
        "colab": {
          "base_uri": "https://localhost:8080/",
          "height": 180
        },
        "outputId": "6e054646-7227-4de1-a37b-8747e16a7ba1"
      },
      "source": [
        "print(\"{:<16}{}\".format(\"Word\", \"Polarity\")+\"\\n\"+\"-\"*30)\n",
        "for w in text.words:\n",
        "    print(\"{:<16}{:>2}\".format(w, w.polarity))"
      ],
      "execution_count": 48,
      "outputs": [
        {
          "output_type": "stream",
          "text": [
            "Word            Polarity\n",
            "------------------------------\n",
            "ସେ               0\n",
            "ଗଛରେ             0\n",
            "ଏକ               0\n",
            "ବିଚିତ୍ର          0\n",
            "ପକ୍ଷୀ            0\n",
            "ବାସ              0\n",
            "କରୁଥିଲା          0\n",
            "।                0\n"
          ],
          "name": "stdout"
        }
      ]
    },
    {
      "cell_type": "code",
      "metadata": {
        "id": "DLW4I3C7IRtL",
        "colab_type": "code",
        "colab": {}
      },
      "source": [
        ""
      ],
      "execution_count": 0,
      "outputs": []
    }
  ]
}