{
  "nbformat": 4,
  "nbformat_minor": 0,
  "metadata": {
    "colab": {
      "name": "FastText.ipynb",
      "provenance": [],
      "collapsed_sections": [],
      "authorship_tag": "ABX9TyP52XqZegZDBTr32RXngNna",
      "include_colab_link": true
    },
    "kernelspec": {
      "name": "python3",
      "display_name": "Python 3"
    }
  },
  "cells": [
    {
      "cell_type": "markdown",
      "metadata": {
        "id": "view-in-github",
        "colab_type": "text"
      },
      "source": [
        "<a href=\"https://colab.research.google.com/github/biranchi2018/My-NLP-Examples/blob/master/11.FastText.ipynb\" target=\"_parent\"><img src=\"https://colab.research.google.com/assets/colab-badge.svg\" alt=\"Open In Colab\"/></a>"
      ]
    },
    {
      "cell_type": "code",
      "metadata": {
        "id": "m7iRd9tirr-4",
        "colab_type": "code",
        "colab": {}
      },
      "source": [
        ""
      ],
      "execution_count": 0,
      "outputs": []
    },
    {
      "cell_type": "markdown",
      "metadata": {
        "id": "ANngZPNAuXSI",
        "colab_type": "text"
      },
      "source": [
        "## FastText\n",
        "\n",
        "https://fasttext.cc/docs/en/support.html"
      ]
    },
    {
      "cell_type": "code",
      "metadata": {
        "id": "sjzDyLmnruCS",
        "colab_type": "code",
        "colab": {
          "base_uri": "https://localhost:8080/",
          "height": 248
        },
        "outputId": "9fd9406c-dcb6-431c-8fd0-d9a04ae61acf"
      },
      "source": [
        "# !pip install fastText"
      ],
      "execution_count": 1,
      "outputs": [
        {
          "output_type": "stream",
          "text": [
            "Collecting fastText\n",
            "\u001b[?25l  Downloading https://files.pythonhosted.org/packages/f8/85/e2b368ab6d3528827b147fdb814f8189acc981a4bc2f99ab894650e05c40/fasttext-0.9.2.tar.gz (68kB)\n",
            "\r\u001b[K     |████▊                           | 10kB 18.9MB/s eta 0:00:01\r\u001b[K     |█████████▌                      | 20kB 1.7MB/s eta 0:00:01\r\u001b[K     |██████████████▎                 | 30kB 2.3MB/s eta 0:00:01\r\u001b[K     |███████████████████             | 40kB 2.6MB/s eta 0:00:01\r\u001b[K     |███████████████████████▉        | 51kB 2.0MB/s eta 0:00:01\r\u001b[K     |████████████████████████████▋   | 61kB 2.3MB/s eta 0:00:01\r\u001b[K     |████████████████████████████████| 71kB 2.1MB/s \n",
            "\u001b[?25hRequirement already satisfied: pybind11>=2.2 in /usr/local/lib/python3.6/dist-packages (from fastText) (2.5.0)\n",
            "Requirement already satisfied: setuptools>=0.7.0 in /usr/local/lib/python3.6/dist-packages (from fastText) (47.1.1)\n",
            "Requirement already satisfied: numpy in /usr/local/lib/python3.6/dist-packages (from fastText) (1.18.4)\n",
            "Building wheels for collected packages: fastText\n",
            "  Building wheel for fastText (setup.py) ... \u001b[?25l\u001b[?25hdone\n",
            "  Created wheel for fastText: filename=fasttext-0.9.2-cp36-cp36m-linux_x86_64.whl size=3016026 sha256=5a5d258cc8d5826d0319ec82c7fa67ece1dc41a9ee3f980cb682e367adad6a03\n",
            "  Stored in directory: /root/.cache/pip/wheels/98/ba/7f/b154944a1cf5a8cee91c154b75231136cc3a3321ab0e30f592\n",
            "Successfully built fastText\n",
            "Installing collected packages: fastText\n",
            "Successfully installed fastText-0.9.2\n"
          ],
          "name": "stdout"
        }
      ]
    },
    {
      "cell_type": "code",
      "metadata": {
        "id": "A-64J_dxruE7",
        "colab_type": "code",
        "colab": {
          "base_uri": "https://localhost:8080/",
          "height": 196
        },
        "outputId": "9ee34fa4-3149-447a-da43-ec809762a2e0"
      },
      "source": [
        "!wget https://dl.fbaipublicfiles.com/fasttext/vectors-crawl/cc.or.300.bin.gz"
      ],
      "execution_count": 2,
      "outputs": [
        {
          "output_type": "stream",
          "text": [
            "--2020-06-03 05:41:37--  https://dl.fbaipublicfiles.com/fasttext/vectors-crawl/cc.or.300.bin.gz\n",
            "Resolving dl.fbaipublicfiles.com (dl.fbaipublicfiles.com)... 104.22.75.142, 104.22.74.142, 2606:4700:10::6816:4b8e, ...\n",
            "Connecting to dl.fbaipublicfiles.com (dl.fbaipublicfiles.com)|104.22.75.142|:443... connected.\n",
            "HTTP request sent, awaiting response... 200 OK\n",
            "Length: 2621673989 (2.4G) [application/octet-stream]\n",
            "Saving to: ‘cc.or.300.bin.gz’\n",
            "\n",
            "cc.or.300.bin.gz    100%[===================>]   2.44G  25.4MB/s    in 1m 40s  \n",
            "\n",
            "2020-06-03 05:43:17 (25.1 MB/s) - ‘cc.or.300.bin.gz’ saved [2621673989/2621673989]\n",
            "\n"
          ],
          "name": "stdout"
        }
      ]
    },
    {
      "cell_type": "code",
      "metadata": {
        "id": "h8cZ2GMox5AC",
        "colab_type": "code",
        "colab": {}
      },
      "source": [
        "!gunzip cc.or.300.bin.gz"
      ],
      "execution_count": 0,
      "outputs": []
    },
    {
      "cell_type": "code",
      "metadata": {
        "id": "HU8SHu57v1qH",
        "colab_type": "code",
        "colab": {
          "base_uri": "https://localhost:8080/",
          "height": 86
        },
        "outputId": "8a51138f-5089-4bd4-8469-5fbc5e7fd28d"
      },
      "source": [
        "from gensim.models.wrappers import FastText\n",
        "\n",
        "model = FastText.load_fasttext_format('cc.or.300.bin')\n"
      ],
      "execution_count": 12,
      "outputs": [
        {
          "output_type": "stream",
          "text": [
            "[('ଆସୁନି', 0.6247788667678833), ('ଜଣେଇବ', 0.6124761700630188), ('କରିଦେ', 0.6100660562515259), ('ଦୁଃଖସୁଖ', 0.6094077825546265), ('ଯୋଡ଼ିପାରିବ', 0.6072179675102234), ('କ\\u200cହିବି', 0.6055291295051575), ('କକିଛି', 0.604597270488739), ('କ\\u200cଥାଟା', 0.6045260429382324), ('ସାଥିମାନଙ୍କୁ', 0.6001025438308716), ('ଭାବିକି', 0.5987366437911987)]\n"
          ],
          "name": "stdout"
        },
        {
          "output_type": "stream",
          "text": [
            "/usr/local/lib/python3.6/dist-packages/gensim/matutils.py:737: FutureWarning: Conversion of the second argument of issubdtype from `int` to `np.signedinteger` is deprecated. In future, it will be treated as `np.int64 == np.dtype(int).type`.\n",
            "  if np.issubdtype(vec.dtype, np.int):\n"
          ],
          "name": "stderr"
        }
      ]
    },
    {
      "cell_type": "code",
      "metadata": {
        "id": "tEX9J6P2zEqT",
        "colab_type": "code",
        "colab": {
          "base_uri": "https://localhost:8080/",
          "height": 86
        },
        "outputId": "6bf8f4b7-0a75-46d1-f481-8af67b6f8050"
      },
      "source": [
        "print(model.most_similar('ଚଳିବ'))\n"
      ],
      "execution_count": 15,
      "outputs": [
        {
          "output_type": "stream",
          "text": [
            "[('ଆସୁନି', 0.6247788667678833), ('ଜଣେଇବ', 0.6124761700630188), ('କରିଦେ', 0.6100660562515259), ('ଦୁଃଖସୁଖ', 0.6094077825546265), ('ଯୋଡ଼ିପାରିବ', 0.6072179675102234), ('କ\\u200cହିବି', 0.6055291295051575), ('କକିଛି', 0.604597270488739), ('କ\\u200cଥାଟା', 0.6045260429382324), ('ସାଥିମାନଙ୍କୁ', 0.6001025438308716), ('ଭାବିକି', 0.5987366437911987)]\n"
          ],
          "name": "stdout"
        },
        {
          "output_type": "stream",
          "text": [
            "/usr/local/lib/python3.6/dist-packages/gensim/matutils.py:737: FutureWarning: Conversion of the second argument of issubdtype from `int` to `np.signedinteger` is deprecated. In future, it will be treated as `np.int64 == np.dtype(int).type`.\n",
            "  if np.issubdtype(vec.dtype, np.int):\n"
          ],
          "name": "stderr"
        }
      ]
    },
    {
      "cell_type": "code",
      "metadata": {
        "id": "MbMEsZ3yyhc0",
        "colab_type": "code",
        "colab": {
          "base_uri": "https://localhost:8080/",
          "height": 86
        },
        "outputId": "905fe40c-ccec-4af2-cdb0-bb7c058acb59"
      },
      "source": [
        "print(model.similarity('ଚଳିବ', 'ଦାବିପତ୍ର'))\n"
      ],
      "execution_count": 13,
      "outputs": [
        {
          "output_type": "stream",
          "text": [
            "0.112438194\n"
          ],
          "name": "stdout"
        },
        {
          "output_type": "stream",
          "text": [
            "/usr/local/lib/python3.6/dist-packages/gensim/matutils.py:737: FutureWarning: Conversion of the second argument of issubdtype from `int` to `np.signedinteger` is deprecated. In future, it will be treated as `np.int64 == np.dtype(int).type`.\n",
            "  if np.issubdtype(vec.dtype, np.int):\n"
          ],
          "name": "stderr"
        }
      ]
    },
    {
      "cell_type": "code",
      "metadata": {
        "id": "MmJOdlRZyhgN",
        "colab_type": "code",
        "colab": {}
      },
      "source": [
        ""
      ],
      "execution_count": 0,
      "outputs": []
    },
    {
      "cell_type": "code",
      "metadata": {
        "id": "j2GWuf3jvQft",
        "colab_type": "code",
        "colab": {}
      },
      "source": [
        ""
      ],
      "execution_count": 0,
      "outputs": []
    }
  ]
}