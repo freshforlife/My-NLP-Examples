{
  "nbformat": 4,
  "nbformat_minor": 0,
  "metadata": {
    "colab": {
      "name": "10.Indic NLP Library.ipynb",
      "provenance": [],
      "collapsed_sections": [],
      "authorship_tag": "ABX9TyMI5opD8TPeM80EHavOJ/Dr",
      "include_colab_link": true
    },
    "kernelspec": {
      "name": "python3",
      "display_name": "Python 3"
    }
  },
  "cells": [
    {
      "cell_type": "markdown",
      "metadata": {
        "id": "view-in-github",
        "colab_type": "text"
      },
      "source": [
        "<a href=\"https://colab.research.google.com/github/biranchi2018/My-NLP-Examples/blob/master/10.Indic_NLP_Library.ipynb\" target=\"_parent\"><img src=\"https://colab.research.google.com/assets/colab-badge.svg\" alt=\"Open In Colab\"/></a>"
      ]
    },
    {
      "cell_type": "markdown",
      "metadata": {
        "id": "E5Ec6ZRtLTlv",
        "colab_type": "text"
      },
      "source": [
        "# Indic NLP Library"
      ]
    },
    {
      "cell_type": "code",
      "metadata": {
        "id": "gaLSLKelLWCa",
        "colab_type": "code",
        "colab": {
          "base_uri": "https://localhost:8080/",
          "height": 216
        },
        "outputId": "19ece7a7-ceb4-4643-86b7-428f62ff7812"
      },
      "source": [
        "!pip install indic-nlp-library\n"
      ],
      "execution_count": 1,
      "outputs": [
        {
          "output_type": "stream",
          "text": [
            "Collecting indic-nlp-library\n",
            "  Downloading https://files.pythonhosted.org/packages/f0/58/8d1e621f87bbc4217fb8ce6628a2eb08b65a64582c5531becf41da5d721c/indic_nlp_library-0.6-py3-none-any.whl\n",
            "Collecting morfessor\n",
            "  Downloading https://files.pythonhosted.org/packages/39/e6/7afea30be2ee4d29ce9de0fa53acbb033163615f849515c0b1956ad074ee/Morfessor-2.0.6-py3-none-any.whl\n",
            "Requirement already satisfied: pandas in /usr/local/lib/python3.6/dist-packages (from indic-nlp-library) (1.0.4)\n",
            "Requirement already satisfied: numpy in /usr/local/lib/python3.6/dist-packages (from indic-nlp-library) (1.18.4)\n",
            "Requirement already satisfied: python-dateutil>=2.6.1 in /usr/local/lib/python3.6/dist-packages (from pandas->indic-nlp-library) (2.8.1)\n",
            "Requirement already satisfied: pytz>=2017.2 in /usr/local/lib/python3.6/dist-packages (from pandas->indic-nlp-library) (2018.9)\n",
            "Requirement already satisfied: six>=1.5 in /usr/local/lib/python3.6/dist-packages (from python-dateutil>=2.6.1->pandas->indic-nlp-library) (1.12.0)\n",
            "Installing collected packages: morfessor, indic-nlp-library\n",
            "Successfully installed indic-nlp-library-0.6 morfessor-2.0.6\n"
          ],
          "name": "stdout"
        }
      ]
    },
    {
      "cell_type": "code",
      "metadata": {
        "id": "5SA6NUr4Mbzy",
        "colab_type": "code",
        "colab": {}
      },
      "source": [
        ""
      ],
      "execution_count": 0,
      "outputs": []
    },
    {
      "cell_type": "code",
      "metadata": {
        "id": "3aUD87f6Mb5i",
        "colab_type": "code",
        "colab": {}
      },
      "source": [
        "import sys\n",
        "from indicnlp import common\n",
        "\n",
        "# The path to the local git repo for Indic NLP library\n",
        "INDIC_NLP_LIB_HOME=r\"indic_nlp_library\"\n",
        "\n",
        "# The path to the local git repo for Indic NLP Resources\n",
        "INDIC_NLP_RESOURCES=r\"indic_nlp_resources\"\n",
        "\n",
        "# Add library to Python path\n",
        "sys.path.append(r'{}\\src'.format(INDIC_NLP_LIB_HOME))\n",
        "\n",
        "# Set environment variable for resources folder\n",
        "common.set_resources_path(INDIC_NLP_RESOURCES)\n"
      ],
      "execution_count": 0,
      "outputs": []
    },
    {
      "cell_type": "code",
      "metadata": {
        "id": "LGgalTrZMb8v",
        "colab_type": "code",
        "colab": {}
      },
      "source": [
        ""
      ],
      "execution_count": 0,
      "outputs": []
    },
    {
      "cell_type": "markdown",
      "metadata": {
        "id": "VL0rOinDMgzt",
        "colab_type": "text"
      },
      "source": [
        "## Sentence Tokenizer"
      ]
    },
    {
      "cell_type": "code",
      "metadata": {
        "id": "25ml_vzrMizw",
        "colab_type": "code",
        "colab": {}
      },
      "source": [
        ""
      ],
      "execution_count": 0,
      "outputs": []
    },
    {
      "cell_type": "code",
      "metadata": {
        "id": "VdAaYp-GMi2e",
        "colab_type": "code",
        "colab": {
          "base_uri": "https://localhost:8080/",
          "height": 163
        },
        "outputId": "4e1f871c-ca1b-42a5-afe7-1f31ba32221b"
      },
      "source": [
        "from indicnlp.tokenize import sentence_tokenize\n",
        "\n",
        "indic_string=\"\"\"ବିନ୍ଧ୍ୟ ପର୍ବତରେ ଗୋଟାଏ ଆକାଶଚୁମ୍ବୀ ଅର୍ଜୁନ ଗଛ ଥିଲା । ସେ ଗଛରେ ଏକ ବିଚିତ୍ର ପକ୍ଷୀ ବାସ କରୁଥିଲା । ଅତି ଉଜ୍ଜ୍ୱଳ ସୁନାରଙ୍ଗର ପର ଓ ନାଲି ଚଂଚୁ, ପ୍ରକୃତରେ ପକ୍ଷୀଟି ଅତି ସୁନ୍ଦରଦେଖା ଯାଉଥିଲା । ମୟୂର ପୁଚ୍ଛଭଳି ତା’ର ଦୀର୍ଘ ପୁଚ୍ଛ । ବିଭିନ୍ନ ରଙ୍ଗରେ ସୁନ୍ଦର ଦିଶୁଥିଲା । ବେଳେବେଳେ ସେ ପକ୍ଷୀ ଜନବସତିକୁ ଆସି କୌଣସି ଏକ ଉଚ୍ଚ ଗଛ ଶାଖାରେ ବସି ମଧୁର ସଙ୍ଗୀତ ଗାନ କରୁଥିଲା ଓ ସଦୁପଦେଶମାନ ଦେଉଥିଲା । ଲୋକେ ଅତି ଆଗ୍ରହରେ ସେ ପକ୍ଷୀର ଆଗମନକୁ ଅପେକ୍ଷା କରୁଥିଲେ । ସେ ପକ୍ଷୀ ଆସିଲେ ଖୁସିହୋଇ ଦେଖୁଥିଲେ ଓ ତାଙ୍କୁ ପୂଜା ବି କରୁଥିଲେ । ଲୋକେ ପକ୍ଷୀର ଏଭଳି ଗୁଣ ଜାଣି ତାକୁ “ପ୍ରଭୁ ପକ୍ଷୀ” ବୋଲି କହୁଥିଲେ ।\"\"\"\n",
        "\n",
        "# Split the sentence, language code \"or\" is passed for odia\n",
        "sentences=sentence_tokenize.sentence_split(indic_string, lang='or')\n",
        "\n",
        "# print the sentences\n",
        "for t in sentences:\n",
        "    print(t)"
      ],
      "execution_count": 4,
      "outputs": [
        {
          "output_type": "stream",
          "text": [
            "ବିନ୍ଧ୍ୟ ପର୍ବତରେ ଗୋଟାଏ ଆକାଶଚୁମ୍ବୀ ଅର୍ଜୁନ ଗଛ ଥିଲା ।\n",
            "ସେ ଗଛରେ ଏକ ବିଚିତ୍ର ପକ୍ଷୀ ବାସ କରୁଥିଲା ।\n",
            "ଅତି ଉଜ୍ଜ୍ୱଳ ସୁନାରଙ୍ଗର ପର ଓ ନାଲି ଚଂଚୁ, ପ୍ରକୃତରେ ପକ୍ଷୀଟି ଅତି ସୁନ୍ଦରଦେଖା ଯାଉଥିଲା ।\n",
            "ମୟୂର ପୁଚ୍ଛଭଳି ତା’ର ଦୀର୍ଘ ପୁଚ୍ଛ ।\n",
            "ବିଭିନ୍ନ ରଙ୍ଗରେ ସୁନ୍ଦର ଦିଶୁଥିଲା ।\n",
            "ବେଳେବେଳେ ସେ ପକ୍ଷୀ ଜନବସତିକୁ ଆସି କୌଣସି ଏକ ଉଚ୍ଚ ଗଛ ଶାଖାରେ ବସି ମଧୁର ସଙ୍ଗୀତ ଗାନ କରୁଥିଲା ଓ ସଦୁପଦେଶମାନ ଦେଉଥିଲା ।\n",
            "ଲୋକେ ଅତି ଆଗ୍ରହରେ ସେ ପକ୍ଷୀର ଆଗମନକୁ ଅପେକ୍ଷା କରୁଥିଲେ ।\n",
            "ସେ ପକ୍ଷୀ ଆସିଲେ ଖୁସିହୋଇ ଦେଖୁଥିଲେ ଓ ତାଙ୍କୁ ପୂଜା ବି କରୁଥିଲେ ।\n",
            "ଲୋକେ ପକ୍ଷୀର ଏଭଳି ଗୁଣ ଜାଣି ତାକୁ “ପ୍ରଭୁ ପକ୍ଷୀ” ବୋଲି କହୁଥିଲେ ।\n"
          ],
          "name": "stdout"
        }
      ]
    },
    {
      "cell_type": "code",
      "metadata": {
        "id": "oqFp3Nf9Mi56",
        "colab_type": "code",
        "colab": {}
      },
      "source": [
        ""
      ],
      "execution_count": 0,
      "outputs": []
    },
    {
      "cell_type": "code",
      "metadata": {
        "id": "CN0TMnTSMi8w",
        "colab_type": "code",
        "colab": {}
      },
      "source": [
        ""
      ],
      "execution_count": 0,
      "outputs": []
    },
    {
      "cell_type": "markdown",
      "metadata": {
        "id": "E45Y7B60M4uh",
        "colab_type": "text"
      },
      "source": [
        "## Transliteration among various Indian Language Scripts\n"
      ]
    },
    {
      "cell_type": "code",
      "metadata": {
        "id": "4HKRp6ehLW_f",
        "colab_type": "code",
        "colab": {
          "base_uri": "https://localhost:8080/",
          "height": 33
        },
        "outputId": "3c4bf1a7-9d04-4f63-a876-323cdf9d85b0"
      },
      "source": [
        "from indicnlp.transliterate.unicode_transliterate import UnicodeIndicTransliterator\n",
        "\n",
        "# Input text \"Today the weather is good. Sun is bright and there are no signs of rain. Hence we can play today.\"\n",
        "input_text='आज मौसम अच्छा है। सूरज उज्ज्वल है और बारिश के कोई संकेत नहीं हैं। इसलिए हम आज खेल सकते हैं!'\n",
        "\n",
        "# Transliterate from Hindi to Odia\n",
        "print(UnicodeIndicTransliterator.transliterate(input_text,\"hi\",\"or\"))"
      ],
      "execution_count": 2,
      "outputs": [
        {
          "output_type": "stream",
          "text": [
            "ଆଜ ମୌସମ ଅଚ୍ଛା ହୈ୤ ସୂରଜ ଉଜ୍ଜ୍ଵଲ ହୈ ଔର ବାରିଶ କେ କୋଈ ସଂକେତ ନହୀଂ ହୈଂ୤ ଇସଲିଏ ହମ ଆଜ ଖେଲ ସକତେ ହୈଂ!\n"
          ],
          "name": "stdout"
        }
      ]
    },
    {
      "cell_type": "code",
      "metadata": {
        "id": "ZUg3sL6OLZ2I",
        "colab_type": "code",
        "colab": {}
      },
      "source": [
        ""
      ],
      "execution_count": 0,
      "outputs": []
    }
  ]
}