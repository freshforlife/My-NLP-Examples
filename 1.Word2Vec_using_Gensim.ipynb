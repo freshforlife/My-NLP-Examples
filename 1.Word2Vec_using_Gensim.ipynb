{
  "nbformat": 4,
  "nbformat_minor": 0,
  "metadata": {
    "colab": {
      "name": "1.Word2Vec using Gensim.ipynb",
      "provenance": [],
      "collapsed_sections": [],
      "authorship_tag": "ABX9TyMOjpaY0T6WVYYfvUMlbkvK",
      "include_colab_link": true
    },
    "kernelspec": {
      "name": "python3",
      "display_name": "Python 3"
    }
  },
  "cells": [
    {
      "cell_type": "markdown",
      "metadata": {
        "id": "view-in-github",
        "colab_type": "text"
      },
      "source": [
        "<a href=\"https://colab.research.google.com/github/biranchi2018/My-NLP-Examples/blob/master/1.Word2Vec_using_Gensim.ipynb\" target=\"_parent\"><img src=\"https://colab.research.google.com/assets/colab-badge.svg\" alt=\"Open In Colab\"/></a>"
      ]
    },
    {
      "cell_type": "markdown",
      "metadata": {
        "id": "BvOe2_Zid1py",
        "colab_type": "text"
      },
      "source": [
        "## Create Text Data"
      ]
    },
    {
      "cell_type": "markdown",
      "metadata": {
        "id": "P3djNFp8dnd4",
        "colab_type": "text"
      },
      "source": [
        "https://www.imdb.com/title/tt0414387/plotsummary?ref_=tt_stry_pl"
      ]
    },
    {
      "cell_type": "code",
      "metadata": {
        "id": "zH9v8SnOdrZH",
        "colab_type": "code",
        "outputId": "87521ba0-1b2d-4cc7-c5c9-97d0c3bbddaa",
        "colab": {
          "base_uri": "https://localhost:8080/",
          "height": 34
        }
      },
      "source": [
        "%%writefile pride.txt\n",
        "This film is the story of the Bennet family, a middle-class family in England around 1800. The principal characters are:\n",
        "\n",
        "Mrs. Bennet (Brenda Blethyn), a hyperexcitable woman obsessed with getting at least one of her daughters into a financially advantageous marriage.\n",
        "\n",
        "Mr. Bennet (Donald Sutherland), who is relaxed, easygoing, and unflappable. He is somewhat amused by the high-spirited behavior of the rest of the family.\n",
        "\n",
        "Jane (Rosamund Pike), the oldest of the daughters. She is serious and thoughtful, but quite shy.\n",
        "\n",
        "Elizabeth (Lizzie) (Keira Knightley), the second daughter and the main character. She is wise, witty, and outspoken. She enjoys (and is very good at) verbal sparring and skirmishing with people.\n",
        "\n",
        "Mary (Talulah Riley), the third, not at all socially outgoing or interested in chasing men. She spends her time reading, playing the piano, and speaking of how much more interesting nature is than human society.\n",
        "\n",
        "Katherine (Kitty) (Carey Mulligan), like Lydia, is a boy-crazy teenager. The two of them are not interested in any serious pursuits; they just want to go to parties and dances. Kitty is impressionable and takes her cues from Lydia.\n",
        "\n",
        "Lydia (Jena Malone) is even more frivolous than Kitty.\n",
        "\n",
        "Charles Bingley (Simon Woods) is a wealthy and good-natured gentleman from London who moves into a nearby estate, causing great interest among the Bennets.\n",
        "\n",
        "Fitzwilliam Darcy (Matthew Macfadyen) is an extremely wealthy gentleman from the North of England. Unfortunately, he is ill-at-ease and inarticulate in social situations. He does not express himself well, and creates a bad impression on people.\n",
        "\n",
        "The reason that an advantageous marriage is important is that the house and land are covered by a covenant that would give it to the eldest male heir on Mr. Bennet's death, but, having no sons, it will go to their cousin, William Collins. This would leave the family destitute.\n",
        "\n",
        "The film opens with a tracking shot of a green covered field on a sun-lit morning. Elizabeth \"Lizzie\" Bennet walks along the field finishing a book. Upon coming home, she overhears her mother telling her father excitedly that Netherfield, a nearby estate, has been rented by a Mr. Bingley, a wealthy gentleman from London. Mrs. Bennet begs Mr. Bennet to call on Mr. Bingley, believing him to be a very suitable match for any of her daughters. Mr. Bennett finally divulges that he has already met Mr. Bingley--he enjoys playing his low-key detached persona off of his wife's hyper-excitablility. When he says that they can all expect to see Mr. Bingley at an upcoming public ball, all of the Bennet daughters (who had been listening intently at the keyhole) squeal in excitement. Lizzie herself and the eldest sister Jane smile with pleasure, as the younger Lydia and Kitty jump up and down, and immediately begin to beg Jane to borrow her prettiest pair of shoes. Mary merely goes back to playing her piano. As Mr. Bennet leaves his study and sees that the five girls were all listening, he simply walks past them, amusedly saying \"Good heavens! People!\"\n",
        "\n",
        "Later, at the public ball, the entire party is dancing, talking, and laughing; especially Lydia and Kitty, who seem to be giddy about being out in public in front of gentlemen. As Jane and Lizzie stand to the side observing the dance, Lizzie tells Jane that she has no intention of ever marrying. Jane disagrees and teases; \"One day, Lizzie, a man will catch your eye and then you will have to hold your tongue.\"\n",
        "\n",
        "Suddenly, the room goes silent, as Mr. Bingley enters the hall along with his pretentious sister Caroline (Kelly Reilly), and his aloof, taciturn, and extremely wealthy friend Mr. Darcy. Mrs. Bennet, in her artless and self-conscious way, wastes no time in introducing her daughters to the newcomers. She also introduces Lizzie's close friend Charlotte Lucas (Claudie Blakley). While Mr. Darcy and Miss Bingley stare with an air of superiority, Mr. Bingley strikes up a conversation with Jane and Elizabeth. He is very affable and pleasant, and he and Jane take an immediate liking to each other. They dance with each other twice, to Mrs. Bennet's immense delight.\n",
        "\n",
        "Mr. Darcy, on the other hand, does not dance at all. He hardly speaks to anyone other than Charles and Caroline Bingley. Lizzie overhears him make a cruel remark about her, leaving her with a strong impression that he is ill-mannered. She later takes an opportunity to engage in some not-very-friendly verbal sparring with him. She comes away from the dance with as negative an impression of him as Jane's positive impression of Bingley.\n",
        "\n",
        "At one point during the dance, Kitty and Lydia run up breathlessly to their mother, telling her that they have heard that the militia are due to stay in their town over the winter. This means lots of opportunities to meet men.\n",
        "\n",
        "The next morning, Jane receives a letter from Caroline Bingley inviting her to dinner at Netherfield, though Charles will be away. Jane goes there, but catches a bad cold on the way, and must stay a few more days until she recovers. (Mrs. Bennet apparently planned the cold in advance, so that Jane would have to stay at the house while Mr. Bingley was there; she had made Jane go to Netherfield on horseback in a driving rainstorm.)\n",
        "\n",
        "Eliza, worried for her sister, walks the long distance in the muddy roads to Netherfield to visit Jane. When enters the reserved and elegant parlor with her hair down and wild, with muddy shoes and skirt, Caroline and Darcy looked shocked at her arrival and her appearance. Lizzie apologizes and inquires about her sister; Darcy brusquely replies that Jane is upstairs resting. Eliza is suprised a bit by the quick reaction, but then smiles and goes upstairs to Jane. As soon as she has left the room, Caroline Bingley quickly remarks how disheveled she looked, stating she \"was almost positively medieval.\"\n",
        "\n",
        "Mr. Bingley is looking after Jane while she is ill. Lizzie stays for a couple of days. Judging by Mr Bingley's concern for her sister, and his fumbling words around her, Elizabeth is sure that Mr Bingley is in love with Jane.\n",
        "\n",
        "During an encounter in the sitting room, Caroline shows her pretentious and aristocratic attitudes. She makes increasingly brazen remarks about the unpolished behavior of the Bennet family and even Elizabeth. She also seems to share Lizzie's skill at verbal sparring, and the two of them make sharp comments to Darcy. Darcy quietly hears hers out her venom but doesn't respond. He seems to be truly offended by both of them.\n",
        "\n",
        "Mrs. Bennet and the other 3 daughters all come to Netherfield to pick up Lizzie and Jane. Mrs. Bennet urges Mr. Bingley to hold a dance soon, and he says that he will. While getting into the carriage, Elizabeth is shocked when Darcy takes her hand to help her into the carriage.\n",
        "\n",
        "Then the dreaded cousin William Collins (Tom Hollander), a minister, comes to visit the Bennets. He is extremely shallow, pompous, patronizing, boring, and conceited. He is attracted to influence and wealth, and engages in transparently foolish flattery. Dinner is very tense; the family sees right through him. Lizzie, in particular, does some verbal sparring with him.\n",
        "\n",
        "After dinner, he approaches Mrs. Bennet about marrying Jane; finding a wife among the sisters was the purpose of the visit. Mrs. Bennet says that Jane appears to be taken, but that Lizzie is available. She is delighted at the thought of one of her daughters marrying the man who will inherit the estate anyway.\n",
        "\n",
        "The next morning, the girls go out to see a parade of the militia; Kitty and Lydia are particularly interested in flirting with them. Later, they meet one of them, a handsome lieutenant named Wickham (Rupert Friend). They all go to a nearby store to buy ribbons for the upcoming dance. On their walk home they encounter Bingley and Darcy. Darcy and Wickham stare at each other coldly, and Darcy quickly leaves. There is some kind of intense antagonism between the two.\n",
        "\n",
        "After Darcy and Bingley leave, Elizabeth, confused by the men's reactions to each other, asks Wickham about this, and he explains that Darcy had cheated him out of Darcy's father's generous bequest to him. Elizabeth is amazed at the story, but is not entirely shocked, given Darcy's personality. Her opinion of Darcy goes even lower.\n",
        "\n",
        "The family goes to Bingley's dance. Lizzie is particularly interested in finding Wickham, but he isn't there, presumably because of the antagonism with Darcy. Collins asks Lizzie to dance with her, to her great disgust. He dotes on her, but she hardly even looks at him or speaks to him. Then Darcy appears, and asks Lizzie to dance. She accepts, and then hurries off with Charlotte for a quiet space. They laugh in disbelief, and Eliza, smiling, admits that \"this is most inconvenient\" as she had resigned herself to loathe him for all eternity. During the dance, she engages in intense verbal battle with him, mentioning Mr. Wickham. Darcy gets extremely uncomfortable, but it is clear that the tension in their manners might be due to attraction.\n",
        "\n",
        "Charlotte warns Lizzie that Jane should show more affection and attention to Mr Bingley, to encourage him. Elizabeth defends Jane, countering that Jane is reserved and shy, but feels that the attention is enough. Charlotte maintains that we are all fools in love.\n",
        "\n",
        "Caroline notices the many social gaffes and generally low-class behavior of the Bennets and their cousin Mr. Collins, and she makes various disparaging remarks about this to Darcy.\n",
        "\n",
        "Bingley smiles at Jane just before the Bennet's leave, and Caroline knows the look on her brother's face means only one thing...love, and if she is going to have anything about it; she has to act quickly. She doesn't want her brother to marry a Bennet.\n",
        "\n",
        "The next morning, Mr. Collins proposes to Lizzie, in the most pompous and conceited way imaginable. Lizzie, who utterly loathes him, rejects the proposal. Her sisters (listening at the door as usual) are delighted that she turned down the pompous ass. But Mrs. Bennet is horrified that any opportunity for marriage has been passed up, particularly with the man who will inherit the estate. She demands that Lizzie change her mind. But Mr. Bennet sides with Lizzie.\n",
        "\n",
        "A letter arrives from Caroline, saying that the Bingleys, and Darcy, are leaving Netherfield indefinitely. The letter indicates that it is so that Darcy can go back to be with his sister Georgiana. Lizzie realizes that Caroline dragged Bingley away so she could set him up with Darcy's younger sister. Jane resigns herself to the thought that perhaps Bingley just never loved her at all. Lizzie protests and says that she is certain Bingley does love her, and that she should not give up. Lizzie tells Jane to go to London and stay with their aunt and uncle, and she is sure that Bingley will send for her before the week is out. The family bids Jane farewell the next morning as she rides off to London to seek out her love.\n",
        "\n",
        "Charlotte Lucas comes to visit Lizzie and tell her that she is engaged to Mr. Collins. Lizzie is appalled that she would marry such a shallow man. Charlotte replies that she is desperate--she is 27 and in danger of becoming a penniless old maid if she does not find a financially secure husband soon.\n",
        "\n",
        "A few weeks later, Charlotte invites Lizzie to visit her at her new home with Mr. Collins. Lizzie sees that Charlotte is genuinely happy. Mr. Collins takes Lizzie and Charlotte to visit his neighbor and patron, the fabulously wealthy and aristocratic Lady Catherine DeBourg (Judi Dench), who is also Darcy's aunt. Mr. Collins is extremely fawning and obsequious toward her. Mr. Darcy, and his cousin, Colonel Fitzwilliam (Cornelius Booth), are also there.\n",
        "\n",
        "Lady DeBourg is an incredibly haughty, arrogant, insolent, and overbearing person. At dinner, she quizzes Lizzie about her family. She is openly disdainful of the Bennets' lower class upbringing (specifically, not having had a governess), Lizzie's unseemly (to Lady Debourg) outspokenness, and the fact that the five girls were violating proper social protocol by all being \"out in society\" at the same time.\n",
        "\n",
        "After dinner, Lady DeBourg commands that Lizzie play the piano. Lizzie protests that she is a poor musician, but Lady DeBourg is not to be denied. While Lizzie is muddling her way through a piano piece, Darcy comes over, and the two of them engage in some verbal sparring. Fitzwilliam comes over and asks about Lizzie's impression of her earlier encounter with Darcy. Lizzie relates his seemingly antisocial behavior, not conversing or dancing with anyone. Darcy protests that he is not skilled in conversing with people to whom he has not been introduced. The verbal jabs continue. Darcy seems hurt by Lizzie's reproach.\n",
        "\n",
        "The next day, Mr. Darcy comes to the house, seeming to want to speak to Lizzie, but is then totally tongue-tied and unable to express himself. He leaves in an apparent state of confusion and agitation.\n",
        "\n",
        "During a boring church sermon by Mr. Collins, Lizzie and Colonel Fitzwilliam have a whispered conversation. Fitzwilliam reveals that Darcy, not Caroline, was the one who had separated Mr. Bingley from Jane.\n",
        "\n",
        "Later, in a shelter from a driving rainstorm, Darcy meets Lizzie and proclaims his love for her, saying that this is against his better judgement and despite her inferior social rank. An extremely bitter confrontation ensues. Lizzie denounces Darcy for his haughty demeanor and, more importantly, for interfering with Jane and Bingley. Darcy explains that he did this because he believed that Jane was not really interested in the relationship. Liz counters that Jane is simply very shy. \"My sister hardly shows her true feelings to me!\" Darcy also makes extremely disparaging comments about the remaining members of the Bennet family. Lizzie also brings up Mr. Wickham's claim that Darcy had cheated him out of his inheritance.\n",
        "\n",
        "Lizzie is so upset by this confrontation that she spends the rest of the day brooding about it back at the house. At nightfall, Darcy comes by and drops off a letter that he has written. Lizzie says nothing.\n",
        "\n",
        "In the letter, Darcy explains the relationship with Wickham. Darcy's father did indeed leave Wickham with a generous annual allowance. Wickham demanded, and received, the full principal, then gambled it away and came back for more. Darcy refused. Later, Wickham returned, and tried to elope with Darcy's sister Georgiana, to get her 30,000 pound inheritance. When he was told he would not get it, he disappeared. Darcy's letter also explains that Georgiana was only 15 at the time, and was thrown into a state of deep despair by this. Darcy explained that he had separated Jane from Bingley because he truly believed that he was helping his friend.\n",
        "\n",
        "Lizzie returns home. Jane is also home from London, having failed to find Mr. Bingley. She tells Lizzie, not very convincingly, that she is quite over her attraction to Bingley. She asks Lizzie whether there is any news from the visit with Charlotte. Lizzie say no; she lies. She specifically denies that Darcy had said anything about Bingley.\n",
        "\n",
        "Also, Lydia has been invited by a Colonel Forster to go on a trip to the South coastal resort at Brighton. Lizzie thinks it is a bad idea; Lydia is immature and impulsive, and could get into trouble. Lizzie pleads with her father to forbid it, and is furious when he doesn't.\n",
        "\n",
        "The Bennet sisters' aunt and uncle, Mr. (Peter Wight) and Mrs. (Penelope Wilton) Gardiner, are visiting, and will be going on a vacation in the Peak district to the North. They invite Lizzie to come with them, and she accepts.\n",
        "\n",
        "While on their travels, Lizzie's aunt and uncle suggest a visit to Pemberley, Darcy's grand estate, which is nearby and is open for visitors. Lizzie is reluctant to be anywhere near the man she hates, but consents to the trip when she is told that Darcy is away.\n",
        "\n",
        "Lizzie is utterly awed by the opulence and splendor of the house and grounds, particularly a sculpture gallery. The housekeeper tells the three visitors what a kind, caring, and generous person Mr. Darcy is. Lizzie begins to think that her earlier impression of him may have been wrong.\n",
        "\n",
        "Lizzie peeks into a room where a very young woman (who will turn out to be Darcy's younger sister Georgiana (Tamzin Merchant)) is playing the piano. She then sees Darcy enter, and he and the young woman welcome each other and embrace affectionately. Lizzie quickly leaves and goes outside. Darcy follows her and makes an awkward attempt to be conciliatory. He explains that he had returned from his trip early. He offers Lizzie a ride back to the inn where she is staying, but she declines, saying that she will walk.\n",
        "\n",
        "At dinner at the inn, Mr. and Mrs. Gardiner tell Lizzie that Darcy had come to talk to them, seemed to be a very gracious person, and had invited them all to come back to Pemberley the next day, so that Mr. Gardiner could go fishing and Lizzie could meet Georgiana. They do so. When Lizzie and Georgiana meet, the latter says \"My brother has told me so much about you. I feel that we are friends already.\" Darcy then flatters Lizzie into playing piano duets with the much more talented Georgiana. The interaction between Lizzie and Darcy is completely pleasant and amicable this time, the first time that this has happened. Darcy is finally learning how to speak in a pleasing way.\n",
        "\n",
        "The Gardiners, Lizzie, and Darcy all go to the inn that evening for dinner. Lizzie receives a letter with the shocking news that Lydia has run away with Mr. Wickham. Darcy blames himself for this, for not having exposed Wickham's perfidy sooner. He then leaves, and the others hurry back to the Bennet's home. Mr. Bennet has gone to London to try to find Lydia and Wickham, and force them to marry. The family is totally devastated--in that society, an incident like this brings ruin upon the entire family. None of them will be able to marry well, and they will lose the estate upon Mr. Bennet's death.\n",
        "\n",
        "Mr. Bennet returns, but Mr. Gardiner is still searching. Then a letter arrives: Mr. Gardiner has found them, and they will get married if Wickham is promised a settlement of 100 pounds per year. Mr. Bennet will pay it, but they are convinced that the actual demand must have been in the thousands, and that Mr. Gardiner is paying the bulk of it.\n",
        "\n",
        "The newlyweds then arrive for a visit before going to the North of England, where Wickham will be stationed. At lunch, Lydia lets slip what was supposed to be a secret--that Darcy was at the wedding, and was in fact the one who had found her and Wickham. Lizzie realizes that Darcy had been noble and generous toward the Bennet family, and that he must have been the one that paid off Wickham.\n",
        "\n",
        "The Bennets later learn that Mr. Bingley is returning to town. Jane assures Lizzie, not very convincingly, that she has completely gotten over caring about him. Mrs. Bennet also feigns indifference. A short time later, Mr. Bingley arrives at the house, with Darcy. (There is a humorous scene where the family frantically cleans up the messy living room, finishing in the nick of time.) Mrs. Bennet, while pretending to be indifferent, is clearly excited at the thought that Bingley will propose to Jane. But the visit is somewhat awkward to all concerned.\n",
        "\n",
        "Bingley and Darcy then walk a short distance from the house, and Darcy helps Bingley rehearse his proposal to Jane. Back at the house, Lizzie begins to realize that Darcy brought Bingley back to town, attempting to repair the damage that he had caused by separating them. She realizes that her negative impression of Darcy had been wrong.\n",
        "\n",
        "Bingley returns and proposes to Jane, and she accepts (with the whole family listening intently at the door, of course.)\n",
        "\n",
        "The Bennet family is ecstatic that evening, until there is a knock on the door. It is Lady DeBourg. After issuing a few insults, she imperiously demands to speak to Lizzie alone. She tells Lizzie that she has heard a rumor that her nephew Darcy and Lizzie are to be married. She is scandalized that he would ruin the family name by marrying into such a low-class family. She demands that Lizzie promise that the rumor is false, and that she will never marry Darcy. Lizzie refuses to do so, and tells Lady DeBourg to leave, an almost unheard-of breach of decorum toward the aristocracy.\n",
        "\n",
        "Lizzie had been unaware of the rumor, and realizes that it must have come from Darcy, and that it means that Darcy is genuinely interested in her. She is so upset at the encounter with Lady DeBourg that she can't sleep. Finally, just before dawn, she gets up and goes for a walk outside. She meets Darcy, also going for a walk. He hadn't been able to sleep either. When Lady DeBourg had reported to him Lizzie's refusal to deny the rumor, he realized that there was hope that Lizzie might marry him. He says that he hopes that her view of him has changed from their earlier encounters. He apologizes for his past behavior, saying \"You are too generous to trifle with me\", and proposes to her. Just at the instant the Sun is rising between them, she accepts.\n",
        "\n",
        "Later that morning, in Mr. Bennet's study, Darcy asks for Lizzie's hand in marriage. Then he leaves and Lizzie goes in to talk to her father. \"I thought you hated the man.\" \"No, papa ... I was wrong. I was entirely wrong about him.\" He gives his consent, saying \"I could not have parted with you, my dear Lizzie, to anyone less worthy.\" After she leaves, Mr. Bennet, who has now had three of his five daughters engaged or married within a few days, calls out \"If any young men come for Mary or Kitty, for heaven's sake, send them in, I'm quite at my leisure.\"\n"
      ],
      "execution_count": 11,
      "outputs": [
        {
          "output_type": "stream",
          "text": [
            "Writing pride.txt\n"
          ],
          "name": "stdout"
        }
      ]
    },
    {
      "cell_type": "markdown",
      "metadata": {
        "id": "_T2QhAxocH2N",
        "colab_type": "text"
      },
      "source": [
        "Creating Word2Vec model using Spacy :\n",
        "=====================================\n",
        "\n",
        "https://medium.com/sfu-cspmp/nlp-word-embedding-techniques-for-text-analysis-ec4e91bb886f\n"
      ]
    },
    {
      "cell_type": "code",
      "metadata": {
        "id": "6EVD6qurb4KW",
        "colab_type": "code",
        "colab": {
          "base_uri": "https://localhost:8080/",
          "height": 70
        },
        "outputId": "b056243d-8a99-4d6d-bd1e-d0de7ad489ef"
      },
      "source": [
        "import gensim\n",
        "import multiprocessing\n",
        "\n",
        "import nltk\n",
        "from nltk.corpus import stopwords\n",
        "nltk.download('stopwords')"
      ],
      "execution_count": 3,
      "outputs": [
        {
          "output_type": "stream",
          "text": [
            "[nltk_data] Downloading package stopwords to /root/nltk_data...\n",
            "[nltk_data]   Unzipping corpora/stopwords.zip.\n"
          ],
          "name": "stdout"
        },
        {
          "output_type": "execute_result",
          "data": {
            "text/plain": [
              "True"
            ]
          },
          "metadata": {
            "tags": []
          },
          "execution_count": 3
        }
      ]
    },
    {
      "cell_type": "code",
      "metadata": {
        "id": "ii0uxLLwrb8Z",
        "colab_type": "code",
        "colab": {
          "base_uri": "https://localhost:8080/",
          "height": 34
        },
        "outputId": "079b34b9-882b-4b84-c189-b175122032de"
      },
      "source": [
        "stopwords = list(set(stopwords.words(\"english\")))\n",
        "print(len(stopwords))"
      ],
      "execution_count": 4,
      "outputs": [
        {
          "output_type": "stream",
          "text": [
            "179\n"
          ],
          "name": "stdout"
        }
      ]
    },
    {
      "cell_type": "code",
      "metadata": {
        "id": "hohlUhyUcP-X",
        "colab_type": "code",
        "outputId": "ec93ac4b-857d-446b-bd1d-07aa8bbcdf04",
        "colab": {
          "base_uri": "https://localhost:8080/",
          "height": 463
        }
      },
      "source": [
        "data_file=\"pride.txt\"\n",
        "\n",
        "with open(data_file, 'r') as f:\n",
        "  for i,line in enumerate(f):\n",
        "    print(i, line)\n",
        "    if i > 10:\n",
        "      break"
      ],
      "execution_count": 27,
      "outputs": [
        {
          "output_type": "stream",
          "text": [
            "0 This film is the story of the Bennet family, a middle-class family in England around 1800. The principal characters are:\n",
            "\n",
            "1 \n",
            "\n",
            "2 Mrs. Bennet (Brenda Blethyn), a hyperexcitable woman obsessed with getting at least one of her daughters into a financially advantageous marriage.\n",
            "\n",
            "3 \n",
            "\n",
            "4 Mr. Bennet (Donald Sutherland), who is relaxed, easygoing, and unflappable. He is somewhat amused by the high-spirited behavior of the rest of the family.\n",
            "\n",
            "5 \n",
            "\n",
            "6 Jane (Rosamund Pike), the oldest of the daughters. She is serious and thoughtful, but quite shy.\n",
            "\n",
            "7 \n",
            "\n",
            "8 Elizabeth (Lizzie) (Keira Knightley), the second daughter and the main character. She is wise, witty, and outspoken. She enjoys (and is very good at) verbal sparring and skirmishing with people.\n",
            "\n",
            "9 \n",
            "\n",
            "10 Mary (Talulah Riley), the third, not at all socially outgoing or interested in chasing men. She spends her time reading, playing the piano, and speaking of how much more interesting nature is than human society.\n",
            "\n",
            "11 \n",
            "\n"
          ],
          "name": "stdout"
        }
      ]
    },
    {
      "cell_type": "code",
      "metadata": {
        "id": "stJX-Fkjc_v9",
        "colab_type": "code",
        "colab": {}
      },
      "source": [
        "\n",
        "def read_input(input_file):\n",
        "  with open(input_file, 'rb') as f:\n",
        "    for i, line in enumerate(f):\n",
        "      #if (i % 100 == 0):\n",
        "      yield gensim.utils.simple_preprocess(line)\n"
      ],
      "execution_count": 0,
      "outputs": []
    },
    {
      "cell_type": "code",
      "metadata": {
        "id": "wvHhISZ1ckXw",
        "colab_type": "code",
        "outputId": "d10afe27-55e0-40c4-e914-b669c9465980",
        "colab": {
          "base_uri": "https://localhost:8080/",
          "height": 34
        }
      },
      "source": [
        "documents = list(read_input(data_file))\n",
        "len(documents)"
      ],
      "execution_count": 29,
      "outputs": [
        {
          "output_type": "execute_result",
          "data": {
            "text/plain": [
              "111"
            ]
          },
          "metadata": {
            "tags": []
          },
          "execution_count": 29
        }
      ]
    },
    {
      "cell_type": "code",
      "metadata": {
        "id": "AUB2eebucyyS",
        "colab_type": "code",
        "outputId": "b0480231-f37a-404d-8df6-661a9e3909c8",
        "colab": {
          "base_uri": "https://localhost:8080/",
          "height": 372
        }
      },
      "source": [
        "documents[:2]"
      ],
      "execution_count": 30,
      "outputs": [
        {
          "output_type": "execute_result",
          "data": {
            "text/plain": [
              "[['this',\n",
              "  'film',\n",
              "  'is',\n",
              "  'the',\n",
              "  'story',\n",
              "  'of',\n",
              "  'the',\n",
              "  'bennet',\n",
              "  'family',\n",
              "  'middle',\n",
              "  'class',\n",
              "  'family',\n",
              "  'in',\n",
              "  'england',\n",
              "  'around',\n",
              "  'the',\n",
              "  'principal',\n",
              "  'characters',\n",
              "  'are'],\n",
              " []]"
            ]
          },
          "metadata": {
            "tags": []
          },
          "execution_count": 30
        }
      ]
    },
    {
      "cell_type": "code",
      "metadata": {
        "id": "hd8mNLOdg1CF",
        "colab_type": "code",
        "colab": {}
      },
      "source": [
        "documents = [list1 for list1 in documents if len(list1)]"
      ],
      "execution_count": 0,
      "outputs": []
    },
    {
      "cell_type": "code",
      "metadata": {
        "id": "VZC9EWlWg9ja",
        "colab_type": "code",
        "outputId": "3e0b1e75-b3fd-4bf9-cf18-528ef53e6271",
        "colab": {
          "base_uri": "https://localhost:8080/",
          "height": 692
        }
      },
      "source": [
        "documents[:2]"
      ],
      "execution_count": 32,
      "outputs": [
        {
          "output_type": "execute_result",
          "data": {
            "text/plain": [
              "[['this',\n",
              "  'film',\n",
              "  'is',\n",
              "  'the',\n",
              "  'story',\n",
              "  'of',\n",
              "  'the',\n",
              "  'bennet',\n",
              "  'family',\n",
              "  'middle',\n",
              "  'class',\n",
              "  'family',\n",
              "  'in',\n",
              "  'england',\n",
              "  'around',\n",
              "  'the',\n",
              "  'principal',\n",
              "  'characters',\n",
              "  'are'],\n",
              " ['mrs',\n",
              "  'bennet',\n",
              "  'brenda',\n",
              "  'blethyn',\n",
              "  'hyperexcitable',\n",
              "  'woman',\n",
              "  'obsessed',\n",
              "  'with',\n",
              "  'getting',\n",
              "  'at',\n",
              "  'least',\n",
              "  'one',\n",
              "  'of',\n",
              "  'her',\n",
              "  'daughters',\n",
              "  'into',\n",
              "  'financially',\n",
              "  'advantageous',\n",
              "  'marriage']]"
            ]
          },
          "metadata": {
            "tags": []
          },
          "execution_count": 32
        }
      ]
    },
    {
      "cell_type": "code",
      "metadata": {
        "id": "70ROIbdfrtbN",
        "colab_type": "code",
        "colab": {}
      },
      "source": [
        "# documents = [word for list1 in documents for word in list1 if word not in stopwords]"
      ],
      "execution_count": 0,
      "outputs": []
    },
    {
      "cell_type": "code",
      "metadata": {
        "id": "vFoSIIPdsvjV",
        "colab_type": "code",
        "colab": {}
      },
      "source": [
        "doc1 = []\n",
        "for list1 in documents:\n",
        "  doc = []\n",
        "  for word in list1:\n",
        "    if word not in stopwords:\n",
        "      doc.append(word)\n",
        "  doc1.append(doc)"
      ],
      "execution_count": 0,
      "outputs": []
    },
    {
      "cell_type": "code",
      "metadata": {
        "id": "0Pu1RVbbuWHo",
        "colab_type": "code",
        "colab": {}
      },
      "source": [
        "documents = doc1"
      ],
      "execution_count": 0,
      "outputs": []
    },
    {
      "cell_type": "code",
      "metadata": {
        "id": "bhs2nqixsE6o",
        "colab_type": "code",
        "colab": {
          "base_uri": "https://localhost:8080/",
          "height": 461
        },
        "outputId": "ba9e82a6-41a5-491b-d6e5-286419a6ca81"
      },
      "source": [
        "documents[:2]"
      ],
      "execution_count": 37,
      "outputs": [
        {
          "output_type": "execute_result",
          "data": {
            "text/plain": [
              "[['film',\n",
              "  'story',\n",
              "  'bennet',\n",
              "  'family',\n",
              "  'middle',\n",
              "  'class',\n",
              "  'family',\n",
              "  'england',\n",
              "  'around',\n",
              "  'principal',\n",
              "  'characters'],\n",
              " ['mrs',\n",
              "  'bennet',\n",
              "  'brenda',\n",
              "  'blethyn',\n",
              "  'hyperexcitable',\n",
              "  'woman',\n",
              "  'obsessed',\n",
              "  'getting',\n",
              "  'least',\n",
              "  'one',\n",
              "  'daughters',\n",
              "  'financially',\n",
              "  'advantageous',\n",
              "  'marriage']]"
            ]
          },
          "metadata": {
            "tags": []
          },
          "execution_count": 37
        }
      ]
    },
    {
      "cell_type": "code",
      "metadata": {
        "id": "6tkr0LUac0Z5",
        "colab_type": "code",
        "outputId": "7dba8266-ee7b-4205-f893-52462e0b1569",
        "colab": {
          "base_uri": "https://localhost:8080/",
          "height": 34
        }
      },
      "source": [
        "model = gensim.models.Word2Vec (documents, size=150, window=10, min_count=2, workers=multiprocessing.cpu_count())\n",
        "model.train(documents,total_examples=len(documents),epochs=50)"
      ],
      "execution_count": 38,
      "outputs": [
        {
          "output_type": "execute_result",
          "data": {
            "text/plain": [
              "(44686, 98650)"
            ]
          },
          "metadata": {
            "tags": []
          },
          "execution_count": 38
        }
      ]
    },
    {
      "cell_type": "code",
      "metadata": {
        "id": "TWz0swQTfLpK",
        "colab_type": "code",
        "outputId": "2820d360-88e1-491e-8cab-9e26349743da",
        "colab": {
          "base_uri": "https://localhost:8080/",
          "height": 34
        }
      },
      "source": [
        "len(list(model.wv.vocab))"
      ],
      "execution_count": 39,
      "outputs": [
        {
          "output_type": "execute_result",
          "data": {
            "text/plain": [
              "292"
            ]
          },
          "metadata": {
            "tags": []
          },
          "execution_count": 39
        }
      ]
    },
    {
      "cell_type": "code",
      "metadata": {
        "id": "IPah_XSosYLd",
        "colab_type": "code",
        "colab": {
          "base_uri": "https://localhost:8080/",
          "height": 194
        },
        "outputId": "40104e10-149a-49f0-b1fa-03b67a2ff2b5"
      },
      "source": [
        "list(model.wv.vocab)[:10]"
      ],
      "execution_count": 41,
      "outputs": [
        {
          "output_type": "execute_result",
          "data": {
            "text/plain": [
              "['film',\n",
              " 'story',\n",
              " 'bennet',\n",
              " 'family',\n",
              " 'class',\n",
              " 'england',\n",
              " 'around',\n",
              " 'principal',\n",
              " 'mrs',\n",
              " 'woman']"
            ]
          },
          "metadata": {
            "tags": []
          },
          "execution_count": 41
        }
      ]
    },
    {
      "cell_type": "code",
      "metadata": {
        "id": "5bWFb4oseS9k",
        "colab_type": "code",
        "outputId": "f302f8f8-bb03-4e81-d022-a5ffda0684d8",
        "colab": {
          "base_uri": "https://localhost:8080/",
          "height": 90
        }
      },
      "source": [
        "w1 = [\"darcy\"]\n",
        "print(model.wv.most_similar(positive=w1))\n",
        "# len(model.wv.vectors)"
      ],
      "execution_count": 43,
      "outputs": [
        {
          "output_type": "stream",
          "text": [
            "[('generous', 0.9999097585678101), ('back', 0.99989253282547), ('lizzie', 0.9998912811279297), ('leaves', 0.9998866319656372), ('saying', 0.9998806715011597), ('walk', 0.9998798966407776), ('sister', 0.9998791813850403), ('also', 0.9998791217803955), ('interested', 0.9998778104782104), ('father', 0.9998772740364075)]\n"
          ],
          "name": "stdout"
        },
        {
          "output_type": "stream",
          "text": [
            "/usr/local/lib/python3.6/dist-packages/gensim/matutils.py:737: FutureWarning: Conversion of the second argument of issubdtype from `int` to `np.signedinteger` is deprecated. In future, it will be treated as `np.int64 == np.dtype(int).type`.\n",
            "  if np.issubdtype(vec.dtype, np.int):\n"
          ],
          "name": "stderr"
        }
      ]
    },
    {
      "cell_type": "code",
      "metadata": {
        "id": "isvFd6lseVUN",
        "colab_type": "code",
        "colab": {}
      },
      "source": [
        ""
      ],
      "execution_count": 0,
      "outputs": []
    }
  ]
}