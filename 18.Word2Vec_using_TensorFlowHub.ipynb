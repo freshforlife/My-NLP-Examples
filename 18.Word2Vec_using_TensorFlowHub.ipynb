{
  "nbformat": 4,
  "nbformat_minor": 0,
  "metadata": {
    "colab": {
      "name": "18.Word2Vec using TensorFlowHub.ipynb",
      "provenance": [],
      "collapsed_sections": [],
      "authorship_tag": "ABX9TyO+SKkIuqZNwbdJIrGHp1jL",
      "include_colab_link": true
    },
    "kernelspec": {
      "name": "python3",
      "display_name": "Python 3"
    }
  },
  "cells": [
    {
      "cell_type": "markdown",
      "metadata": {
        "id": "view-in-github",
        "colab_type": "text"
      },
      "source": [
        "<a href=\"https://colab.research.google.com/github/biranchi2018/My-NLP-Examples/blob/master/18.Word2Vec_using_TensorFlowHub.ipynb\" target=\"_parent\"><img src=\"https://colab.research.google.com/assets/colab-badge.svg\" alt=\"Open In Colab\"/></a>"
      ]
    },
    {
      "cell_type": "code",
      "metadata": {
        "id": "pGGa8xLK13G5",
        "colab_type": "code",
        "colab": {}
      },
      "source": [
        "import tensorflow as tf\n",
        "import tensorflow_hub as hub\n",
        "import numpy as np\n",
        "from sklearn.metrics.pairwise import cosine_similarity\n",
        "from sklearn.metrics.pairwise import linear_kernel"
      ],
      "execution_count": 0,
      "outputs": []
    },
    {
      "cell_type": "code",
      "metadata": {
        "id": "n8PC8hmr17dv",
        "colab_type": "code",
        "colab": {}
      },
      "source": [
        "# Load Pretrained Word2Vec\n",
        "embed = hub.load(\"https://tfhub.dev/google/Wiki-words-250-with-normalization/2\")\n"
      ],
      "execution_count": 0,
      "outputs": []
    },
    {
      "cell_type": "code",
      "metadata": {
        "id": "jin8XraU18v0",
        "colab_type": "code",
        "colab": {}
      },
      "source": [
        "words = [\"coffee\", \"cafe\", \"football\", \"soccer\"]\n",
        "# Compute embeddings.\n",
        "embeddings = embed(words)\n"
      ],
      "execution_count": 0,
      "outputs": []
    },
    {
      "cell_type": "code",
      "metadata": {
        "id": "AZ_5B9511-FM",
        "colab_type": "code",
        "outputId": "2cd8338a-0881-4d37-bfd6-53528308669c",
        "colab": {
          "base_uri": "https://localhost:8080/",
          "height": 33
        }
      },
      "source": [
        "print(embeddings.shape)\n"
      ],
      "execution_count": 0,
      "outputs": [
        {
          "output_type": "stream",
          "text": [
            "(4, 250)\n"
          ],
          "name": "stdout"
        }
      ]
    },
    {
      "cell_type": "code",
      "metadata": {
        "id": "opMacbiJ1_YU",
        "colab_type": "code",
        "outputId": "78208ef1-c182-4f57-8af2-c8db03d9b45a",
        "colab": {
          "base_uri": "https://localhost:8080/",
          "height": 716
        }
      },
      "source": [
        "print(embeddings[0])"
      ],
      "execution_count": 0,
      "outputs": [
        {
          "output_type": "stream",
          "text": [
            "tf.Tensor(\n",
            "[-0.02354056 -0.08136939 -0.09588724  0.04267474 -0.03513853  0.09099629\n",
            " -0.01959137 -0.07235982 -0.04527646 -0.02064468 -0.05868183  0.05026427\n",
            "  0.08757452 -0.02868579 -0.00528093 -0.07107743 -0.00430126 -0.1111517\n",
            " -0.0371297  -0.07397588  0.01366727  0.04489887  0.10918173 -0.00385636\n",
            " -0.00768068 -0.12602517  0.0073157   0.0887766  -0.06376575 -0.02794223\n",
            "  0.07697963 -0.00691205 -0.05405519 -0.11509552  0.02446181 -0.01677185\n",
            " -0.07807938 -0.05697621 -0.08125712 -0.08814868 -0.08236694 -0.08067547\n",
            "  0.0609058  -0.03083544 -0.03890334 -0.04752342  0.05156425  0.06546737\n",
            " -0.00422008 -0.05087236  0.00757163 -0.05662974 -0.02225585  0.09144896\n",
            "  0.01537593 -0.03186006 -0.07453508 -0.09245355 -0.0335355  -0.02733024\n",
            " -0.09283264  0.07827969  0.01312644  0.01702355  0.03512271 -0.06434979\n",
            " -0.07367618  0.02042403 -0.09727054 -0.02774223  0.09928335  0.06212646\n",
            "  0.09546035 -0.04408428 -0.00725705 -0.00057283 -0.0287641   0.03661085\n",
            " -0.05806859 -0.05408818  0.0231409  -0.07298388  0.1646798   0.07809006\n",
            " -0.01111982  0.14087161 -0.04396361  0.04126683  0.02877898  0.01905746\n",
            "  0.1105309   0.06654984 -0.00078718 -0.09800068  0.07190014 -0.131704\n",
            " -0.03441447 -0.02738335  0.03093908 -0.01418934  0.04429242 -0.01806876\n",
            "  0.04542694 -0.05444206 -0.08348989 -0.05099544  0.04747298  0.06506849\n",
            " -0.05768571 -0.00440776  0.01051272 -0.08287345  0.11204316 -0.05460041\n",
            "  0.00567209 -0.07521604  0.11076885 -0.04829612  0.05183472 -0.04895689\n",
            " -0.02137397  0.02561938 -0.05885033  0.04311425 -0.07235826 -0.09585836\n",
            " -0.03546391  0.00806308 -0.0619843   0.05591873 -0.08550402 -0.08185065\n",
            " -0.05578732 -0.09064139 -0.01335919 -0.07727531  0.02775419 -0.08254696\n",
            "  0.04840679  0.02586558  0.00663981 -0.06776338 -0.07152627  0.01210419\n",
            " -0.00852732 -0.01058301 -0.1619424   0.02026587 -0.01388948  0.00189575\n",
            "  0.03454833  0.05086273  0.03521772 -0.03332255 -0.00988645  0.02418481\n",
            "  0.05226289  0.02611434  0.10866518  0.05978051 -0.08198778 -0.02986844\n",
            " -0.06233634  0.10071989 -0.03119567 -0.11822581  0.01693426 -0.0608105\n",
            " -0.05698326 -0.10583136 -0.13607931  0.02407905 -0.03629255  0.02076313\n",
            " -0.04213256 -0.06741277 -0.06263477  0.04730252  0.03838075  0.10238209\n",
            " -0.07200056 -0.0440848   0.01331067 -0.00238228  0.03103796 -0.05993534\n",
            "  0.05239792 -0.04665108 -0.04364431 -0.00259019  0.00851675  0.02730579\n",
            "  0.07337386  0.01205894 -0.00536067 -0.02512251  0.0261053  -0.0362059\n",
            "  0.03148042 -0.07700469 -0.05770168 -0.13220859  0.01733035 -0.16073275\n",
            "  0.02587633  0.0902601   0.05141979 -0.02696803  0.02988728  0.03869817\n",
            " -0.11350647 -0.02808783  0.02539633 -0.13162673 -0.05006778 -0.00478651\n",
            " -0.05001132 -0.08984482  0.01518493 -0.03974978  0.07634825  0.01875645\n",
            " -0.00474618  0.01459583 -0.04914725 -0.00623341 -0.02581113  0.01803032\n",
            "  0.09076595  0.02429139 -0.02663588 -0.1329482  -0.00831683  0.12574844\n",
            " -0.21781795  0.07475684 -0.06326763 -0.06678488  0.03054501 -0.04050571\n",
            "  0.00973472 -0.06373728  0.1009348  -0.03326001  0.02156528 -0.02337086\n",
            " -0.00653275  0.03182182 -0.05427     0.02559574], shape=(250,), dtype=float32)\n"
          ],
          "name": "stdout"
        }
      ]
    },
    {
      "cell_type": "code",
      "metadata": {
        "id": "tBQERzH62A4c",
        "colab_type": "code",
        "outputId": "bdc5ac2f-61a6-43aa-bf45-be53bc39c834",
        "colab": {
          "base_uri": "https://localhost:8080/",
          "height": 180
        }
      },
      "source": [
        "# Compute similarity matrix. Higher score indicates greater similarity.\n",
        "for i in range(len(words)):\n",
        "    for j in range(i,len(words)):\n",
        "        print(\"(\",words[i], \",\", words[j],\")\",np.inner(embeddings[i], embeddings[j]))\n"
      ],
      "execution_count": 0,
      "outputs": [
        {
          "output_type": "stream",
          "text": [
            "( coffee , coffee ) 1.0\n",
            "( coffee , cafe ) 0.5485246\n",
            "( coffee , football ) -0.0049367556\n",
            "( coffee , soccer ) 0.03198619\n",
            "( cafe , cafe ) 1.0\n",
            "( cafe , football ) 0.0658585\n",
            "( cafe , soccer ) 0.15623057\n",
            "( football , football ) 1.0\n",
            "( football , soccer ) 0.7606856\n",
            "( soccer , soccer ) 1.0\n"
          ],
          "name": "stdout"
        }
      ]
    },
    {
      "cell_type": "code",
      "metadata": {
        "id": "FOqTr2Ai2DRU",
        "colab_type": "code",
        "outputId": "8ddab2e1-ffa6-409c-e1bd-258e2503355d",
        "colab": {
          "base_uri": "https://localhost:8080/",
          "height": 180
        }
      },
      "source": [
        "# Compute cosine similarity matrix. Higher score indicates greater similarity.\n",
        "for i in range(len(words)):\n",
        "    for j in range(i,len(words)):\n",
        "        print(\"(\",words[i], \",\", words[j],\")\",linear_kernel(np.array(embeddings[i]).reshape(1,-1), np.array(embeddings[j]).reshape(1,-1))[0][0] )\n"
      ],
      "execution_count": 0,
      "outputs": [
        {
          "output_type": "stream",
          "text": [
            "( coffee , coffee ) 1.0\n",
            "( coffee , cafe ) 0.5485246\n",
            "( coffee , football ) -0.0049367556\n",
            "( coffee , soccer ) 0.03198619\n",
            "( cafe , cafe ) 1.0\n",
            "( cafe , football ) 0.0658585\n",
            "( cafe , soccer ) 0.15623057\n",
            "( football , football ) 1.0\n",
            "( football , soccer ) 0.7606856\n",
            "( soccer , soccer ) 1.0\n"
          ],
          "name": "stdout"
        }
      ]
    },
    {
      "cell_type": "code",
      "metadata": {
        "id": "SAAm8QC72ruV",
        "colab_type": "code",
        "colab": {}
      },
      "source": [
        ""
      ],
      "execution_count": 0,
      "outputs": []
    }
  ]
}